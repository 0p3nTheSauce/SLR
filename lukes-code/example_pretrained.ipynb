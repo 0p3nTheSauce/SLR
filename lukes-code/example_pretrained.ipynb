{
 "cells": [
  {
   "cell_type": "markdown",
   "id": "328a6c09",
   "metadata": {},
   "source": [
    "# Experimenting with some pretrained video classification models"
   ]
  },
  {
   "cell_type": "code",
   "execution_count": 7,
   "id": "2689d91c",
   "metadata": {},
   "outputs": [],
   "source": [
    "'''Taken from the torchvision documentation:'''\n",
    "\n",
    "from torchvision.io.video import read_video\n",
    "from torchvision.models.video import r3d_18, R3D_18_Weights\n",
    "\n",
    "vid, _, _ = read_video(\"test/assets/videos/v_SoccerJuggling_g23_c01.avi\", output_format=\"TCHW\")\n",
    "vid = vid[:32]  # optionally shorten duration\n",
    "\n",
    "# Step 1: Initialize model with the best available weights\n",
    "weights = R3D_18_Weights.DEFAULT\n",
    "model = r3d_18(weights=weights)\n",
    "model.eval()\n",
    "\n",
    "# Step 2: Initialize the inference transforms\n",
    "preprocess = weights.transforms()\n",
    "\n",
    "# Step 3: Apply inference preprocessing transforms\n",
    "batch = preprocess(vid).unsqueeze(0)\n",
    "\n"
   ]
  },
  {
   "cell_type": "code",
   "execution_count": 8,
   "id": "9976a3a3",
   "metadata": {},
   "outputs": [
    {
     "name": "stdout",
     "output_type": "stream",
     "text": [
      "shape of batch: torch.Size([1, 3, 0, 112, 112])\n"
     ]
    }
   ],
   "source": [
    "print(f\"shape of batch: {batch.shape}\")"
   ]
  },
  {
   "cell_type": "code",
   "execution_count": null,
   "id": "db780513",
   "metadata": {},
   "outputs": [],
   "source": [
    "# Step 4: Use the model and print the predicted category\n",
    "prediction = model(batch).squeeze(0).softmax(0)\n",
    "label = prediction.argmax().item()\n",
    "score = prediction[label].item()\n",
    "category_name = weights.meta[\"categories\"][label]\n",
    "print(f\"{category_name}: {100 * score}%\")"
   ]
  }
 ],
 "metadata": {
  "kernelspec": {
   "display_name": ".venv",
   "language": "python",
   "name": "python3"
  },
  "language_info": {
   "codemirror_mode": {
    "name": "ipython",
    "version": 3
   },
   "file_extension": ".py",
   "mimetype": "text/x-python",
   "name": "python",
   "nbconvert_exporter": "python",
   "pygments_lexer": "ipython3",
   "version": "3.10.12"
  }
 },
 "nbformat": 4,
 "nbformat_minor": 5
}
