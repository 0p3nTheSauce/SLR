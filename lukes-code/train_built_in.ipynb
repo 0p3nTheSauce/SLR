{
 "cells": [
  {
   "cell_type": "markdown",
   "id": "272bbbd8",
   "metadata": {},
   "source": [
    "# Comparing different built in models with the available data"
   ]
  },
  {
   "cell_type": "code",
   "execution_count": 12,
   "id": "f9ce1502",
   "metadata": {},
   "outputs": [],
   "source": [
    "import torch\n",
    "from torch.utils.data import Dataset, DataLoader\n",
    "import torchvision.transforms as transforms\n",
    "import numpy as np\n",
    "import os\n",
    "from PIL import Image\n",
    "import torchvision.models.video as video_models\n",
    "import torch.nn as nn\n",
    "import tqdm"
   ]
  },
  {
   "cell_type": "markdown",
   "id": "1d848e0c",
   "metadata": {},
   "source": [
    "### import custom dataset"
   ]
  },
  {
   "cell_type": "code",
   "execution_count": 13,
   "id": "9d00bc88",
   "metadata": {},
   "outputs": [
    {
     "name": "stdout",
     "output_type": "stream",
     "text": [
      "Length: 1442\n"
     ]
    }
   ],
   "source": [
    "import video_dataset as Dataset\n",
    "\n",
    "raw_path = '../data/WLASL2000'\n",
    "instances_path = './preprocessed_labels/asl100/train_instances_fixed_bboxes_short.json'\n",
    "classes_path = './wlasl_class_list.json'\n",
    "train_set = Dataset.VideoDataset(\n",
    "  root=raw_path,\n",
    "  instances_path=instances_path,\n",
    "  classes_path=classes_path,\n",
    "  transform=Dataset.min_transform_rI3d\n",
    ")\n",
    "\n",
    "\n",
    "print(f\"Length: {len(train_set)}\")"
   ]
  },
  {
   "cell_type": "markdown",
   "id": "ecbc301c",
   "metadata": {},
   "source": [
    "### Setup dataloader"
   ]
  },
  {
   "cell_type": "code",
   "execution_count": 14,
   "id": "1ae155ad",
   "metadata": {},
   "outputs": [
    {
     "data": {
      "text/plain": [
       "<torch.utils.data.dataloader.DataLoader at 0x7b9a20115c90>"
      ]
     },
     "execution_count": 14,
     "metadata": {},
     "output_type": "execute_result"
    }
   ],
   "source": [
    "torch.manual_seed(42)\n",
    "train_loader = DataLoader(\n",
    "  train_set,\n",
    "  batch_size=2,\n",
    "  shuffle=True,\n",
    "  num_workers=0 #to use manual seed\n",
    ")\n",
    "train_loader"
   ]
  },
  {
   "cell_type": "markdown",
   "id": "6c64b2d8",
   "metadata": {},
   "source": [
    "## 3D CNNs"
   ]
  },
  {
   "cell_type": "markdown",
   "id": "4c557646",
   "metadata": {},
   "source": [
    "### r3d_18\n",
    "\n",
    "There may be some issues with memory..."
   ]
  },
  {
   "cell_type": "markdown",
   "id": "2e3e56a0",
   "metadata": {},
   "source": [
    "### Initialisation:"
   ]
  },
  {
   "cell_type": "code",
   "execution_count": 15,
   "id": "5cbe3b27",
   "metadata": {},
   "outputs": [
    {
     "name": "stderr",
     "output_type": "stream",
     "text": [
      "/home/luke/ExtraStorage/WLASL/.venv/lib/python3.10/site-packages/torchvision/models/_utils.py:208: UserWarning: The parameter 'pretrained' is deprecated since 0.13 and may be removed in the future, please use 'weights' instead.\n",
      "  warnings.warn(\n",
      "/home/luke/ExtraStorage/WLASL/.venv/lib/python3.10/site-packages/torchvision/models/_utils.py:223: UserWarning: Arguments other than a weight enum or `None` for 'weights' are deprecated since 0.13 and may be removed in the future. The current behavior is equivalent to passing `weights=R3D_18_Weights.KINETICS400_V1`. You can also use `weights=R3D_18_Weights.DEFAULT` to get the most up-to-date weights.\n",
      "  warnings.warn(msg)\n"
     ]
    }
   ],
   "source": [
    "#load pretrained mode\n",
    "model = video_models.r3d_18(pretrained=True)\n",
    "\n",
    "#alter classifier\n",
    "num_classes = 100\n",
    "model.fc = nn.Linear(model.fc.in_features, num_classes)"
   ]
  },
  {
   "cell_type": "markdown",
   "id": "151ea549",
   "metadata": {},
   "source": [
    "### Training setup:"
   ]
  },
  {
   "cell_type": "code",
   "execution_count": 16,
   "id": "34694745",
   "metadata": {},
   "outputs": [
    {
     "name": "stdout",
     "output_type": "stream",
     "text": [
      "Device: cuda\n"
     ]
    }
   ],
   "source": [
    "device = 'cuda' if torch.cuda.is_available() else 'cpu'\n",
    "print(f\"Device: {device}\")\n",
    "\n",
    "model = model.to(device)\n",
    "\n",
    "for param in model.parameters():\n",
    "  param.requires_grad = True\n",
    "\n",
    "optimizer = torch.optim.Adam(model.parameters(), lr=0.001)\n",
    "loss_func = nn.CrossEntropyLoss()\n",
    "  "
   ]
  },
  {
   "cell_type": "code",
   "execution_count": 17,
   "id": "647b1456",
   "metadata": {},
   "outputs": [],
   "source": [
    "def train_model(model, data_loader, optimizer, loss_func, epochs=10,val_loader=None):\n",
    "  model.train()\n",
    "    \n",
    "  for epoch in tqdm.tqdm(range(epochs), desc=\"Training R3D\"):\n",
    "    running_loss = 0.0\n",
    "      \n",
    "    for batch_idx, (data, target) in enumerate(data_loader):\n",
    "      # data shape: (batch_size, 3, frames, height, width)\n",
    "      data, target = data.to(device), target.to(device)\n",
    "      \n",
    "      optimizer.zero_grad()\n",
    "      output = model(data)\n",
    "      loss = loss_func(output, target)\n",
    "      loss.backward()\n",
    "      optimizer.step()\n",
    "      \n",
    "      running_loss += loss.item()\n",
    "      \n",
    "      # if batch_idx % 100 == 0:\n",
    "      #     print(f'Epoch [{epoch+1}/{epochs}], Step [{batch_idx}], Loss: {loss.item():.4f}')\n",
    "      \n",
    "    print(f'Epoch [{epoch+1}/{epochs}], Average Loss: {running_loss/len(data_loader):.4f}')"
   ]
  },
  {
   "cell_type": "code",
   "execution_count": 18,
   "id": "77024c7c",
   "metadata": {},
   "outputs": [
    {
     "name": "stderr",
     "output_type": "stream",
     "text": [
      "Training R3D:  10%|█         | 1/10 [17:22<2:36:25, 1042.82s/it]"
     ]
    },
    {
     "name": "stdout",
     "output_type": "stream",
     "text": [
      "Epoch [1/10], Average Loss: 4.8476\n"
     ]
    },
    {
     "name": "stderr",
     "output_type": "stream",
     "text": [
      "Training R3D:  20%|██        | 2/10 [34:35<2:18:15, 1036.90s/it]"
     ]
    },
    {
     "name": "stdout",
     "output_type": "stream",
     "text": [
      "Epoch [2/10], Average Loss: 4.6423\n"
     ]
    },
    {
     "name": "stderr",
     "output_type": "stream",
     "text": [
      "Training R3D:  30%|███       | 3/10 [51:47<2:00:40, 1034.42s/it]"
     ]
    },
    {
     "name": "stdout",
     "output_type": "stream",
     "text": [
      "Epoch [3/10], Average Loss: 4.6112\n"
     ]
    },
    {
     "name": "stderr",
     "output_type": "stream",
     "text": [
      "Training R3D:  40%|████      | 4/10 [1:08:59<1:43:20, 1033.45s/it]"
     ]
    },
    {
     "name": "stdout",
     "output_type": "stream",
     "text": [
      "Epoch [4/10], Average Loss: 4.6109\n"
     ]
    },
    {
     "name": "stderr",
     "output_type": "stream",
     "text": [
      "Training R3D:  50%|█████     | 5/10 [1:26:10<1:26:04, 1032.90s/it]"
     ]
    },
    {
     "name": "stdout",
     "output_type": "stream",
     "text": [
      "Epoch [5/10], Average Loss: 4.6518\n"
     ]
    },
    {
     "name": "stderr",
     "output_type": "stream",
     "text": [
      "Training R3D:  60%|██████    | 6/10 [1:43:23<1:08:50, 1032.73s/it]"
     ]
    },
    {
     "name": "stdout",
     "output_type": "stream",
     "text": [
      "Epoch [6/10], Average Loss: 4.6090\n"
     ]
    },
    {
     "name": "stderr",
     "output_type": "stream",
     "text": [
      "Training R3D:  70%|███████   | 7/10 [2:00:35<51:37, 1032.44s/it]  "
     ]
    },
    {
     "name": "stdout",
     "output_type": "stream",
     "text": [
      "Epoch [7/10], Average Loss: 4.6163\n"
     ]
    },
    {
     "name": "stderr",
     "output_type": "stream",
     "text": [
      "Training R3D:  80%|████████  | 8/10 [2:17:54<34:29, 1034.78s/it]"
     ]
    },
    {
     "name": "stdout",
     "output_type": "stream",
     "text": [
      "Epoch [8/10], Average Loss: 4.6055\n"
     ]
    },
    {
     "name": "stderr",
     "output_type": "stream",
     "text": [
      "Training R3D:  90%|█████████ | 9/10 [2:35:18<17:17, 1037.43s/it]"
     ]
    },
    {
     "name": "stdout",
     "output_type": "stream",
     "text": [
      "Epoch [9/10], Average Loss: 4.6015\n"
     ]
    },
    {
     "name": "stderr",
     "output_type": "stream",
     "text": [
      "Training R3D: 100%|██████████| 10/10 [2:52:28<00:00, 1034.89s/it]"
     ]
    },
    {
     "name": "stdout",
     "output_type": "stream",
     "text": [
      "Epoch [10/10], Average Loss: 4.6005\n"
     ]
    },
    {
     "name": "stderr",
     "output_type": "stream",
     "text": [
      "\n"
     ]
    }
   ],
   "source": [
    "train_model(model=model, data_loader=train_loader, optimizer=optimizer, loss_func=loss_func)"
   ]
  },
  {
   "cell_type": "markdown",
   "id": "4e3bb367",
   "metadata": {},
   "source": [
    "### Output from nvidia-smi:\n",
    "\n",
    "NVIDIA-SMI 555.42.06              Driver Version: 555.42.06      CUDA Version: 12.5     |\n",
    "|-----------------------------------------+------------------------+----------------------+\n",
    "| GPU  Name                 Persistence-M | Bus-Id          Disp.A | Volatile Uncorr. ECC |\n",
    "| Fan  Temp   Perf          Pwr:Usage/Cap |           Memory-Usage | GPU-Util  Compute M. |\n",
    "|                                         |                        |               MIG M. |\n",
    "|=========================================+========================+======================|\n",
    "|   0  NVIDIA GeForce GTX 1080 Ti     Off |   00000000:01:00.0  On |                  N/A |\n",
    "| 53%   72C    P2            288W /  300W |    4448MiB /  11264MiB |    100%      Default |\n",
    "|                                         |                        |                  N/A |\n",
    "\n",
    "can probably stand to increase batch size\n"
   ]
  },
  {
   "cell_type": "markdown",
   "id": "d756c3b2",
   "metadata": {},
   "source": [
    "### Increased batch size to 2:\n",
    "\n",
    " NVIDIA-SMI 555.42.06              Driver Version: 555.42.06      CUDA Version: 12.5     |\n",
    "|-----------------------------------------+------------------------+----------------------+\n",
    "| GPU  Name                 Persistence-M | Bus-Id          Disp.A | Volatile Uncorr. ECC |\n",
    "| Fan  Temp   Perf          Pwr:Usage/Cap |           Memory-Usage | GPU-Util  Compute M. |\n",
    "|                                         |                        |               MIG M. |\n",
    "|=========================================+========================+======================|\n",
    "|   0  NVIDIA GeForce GTX 1080 Ti     Off |   00000000:01:00.0  On |                  N/A |\n",
    "| 42%   67C    P2            303W /  300W |   10054MiB /  11264MiB |    100%      Default |\n",
    "|                                         |                        |                  N/A |\n"
   ]
  },
  {
   "cell_type": "markdown",
   "id": "e2057d63",
   "metadata": {},
   "source": [
    "### the loss seems to be decreasing, but lets see if we can do better plotting "
   ]
  },
  {
   "cell_type": "code",
   "execution_count": 24,
   "id": "3539b30e",
   "metadata": {},
   "outputs": [],
   "source": [
    "# !pip install tensorboard\n",
    "from torch.utils.tensorboard import SummaryWriter\n",
    "import os"
   ]
  },
  {
   "cell_type": "code",
   "execution_count": null,
   "id": "6e7ae055",
   "metadata": {},
   "outputs": [],
   "source": [
    "\n",
    "def train_model_2(model, train_loader, optimizer, loss_func, epochs=10,val_loader=None,\n",
    "                  output='runs/exp_0', logs='logs', save='checkpoints', save_every=1):\n",
    "  if os.path.exists(output) and output[-1].isdigit():\n",
    "    output = output[:-1] + str(int(output[-1])+ 1) #enumerate file name\n",
    "  if save:\n",
    "    save_path = os.path.join(output, save)\n",
    "    os.makedirs(save_path,exist_ok=True)\n",
    "  logs_path = os.path.join(output, logs)\n",
    "  writer = SummaryWriter(logs_path) #watching loss\n",
    "  train_losses = []\n",
    "  val_losses = []\n",
    "  best_val_loss = float('inf')\n",
    "  \n",
    "  model.train()\n",
    "  for epoch in tqdm.tqdm(range(epochs), desc=\"Training R3D\"):\n",
    "    #Training phase\n",
    "    running_loss = 0.0\n",
    "    train_samples = 0\n",
    "    \n",
    "    for data, target in train_loader:\n",
    "      data, target = data.to(device), target.to(device)\n",
    "      \n",
    "      optimizer.zero_grad()\n",
    "      model_output = model(data)\n",
    "      loss = loss_func(model_output, target)\n",
    "      loss.backward()\n",
    "      optimizer.step()\n",
    "      \n",
    "      running_loss += loss.item() * data.size(0) #weight by batch size\n",
    "      train_samples += data.size(0)\n",
    "      \n",
    "    avg_train_loss = running_loss / train_samples\n",
    "    train_losses.append(avg_train_loss)\n",
    "    writer.add_scalar('Loss/Train', avg_train_loss, epoch)\n",
    "    #Validation phase\n",
    "    if val_loader:\n",
    "      model.eval()\n",
    "      val_loss = 0.0\n",
    "      val_samples = 0\n",
    "      \n",
    "      with torch.no_grad():\n",
    "        for data, target in val_loader:\n",
    "          data, target = data.to(device), target.to(device)\n",
    "          \n",
    "          model_output = model(data)\n",
    "          loss = loss_func(model_output, target)\n",
    "          \n",
    "          val_loss += loss.item() * data.size(0) #weight by batch size\n",
    "          val_samples += data.size(0)\n",
    "          \n",
    "      avg_val_loss = val_loss / val_samples\n",
    "      val_losses.append(avg_val_loss)\n",
    "      writer.add_scalar('Loss/Val', avg_val_loss, epoch)\n",
    "      \n",
    "      if save and avg_val_loss < best_val_loss:\n",
    "        best_val_loss = avg_val_loss\n",
    "        torch.save(model.state_dict(),\n",
    "                   os.path.join(save_path, 'best.pth'))\n",
    "      \n",
    "      print(f\"Epoch [{epoch+1}/{epochs}], Train Loss: {avg_train_loss:.4f}, Val Loss: {avg_val_loss:.4f}\")\n",
    "      model.train() # return back to train\n",
    "    else:\n",
    "      print(f'Epoch [{epoch+1}/{epochs}], Average Loss: {avg_train_loss:.4f}')\n",
    "    \n",
    "    if save and epoch % save_every == 0:\n",
    "      avg_train_loss = avg_train_loss if avg_train_loss else 'N/A'\n",
    "      avg_val_loss = avg_val_loss if avg_val_loss else 'N/A'\n",
    "      torch.save({\n",
    "        'epoch': epoch,\n",
    "        'model_state_dict': model.state_dict(),\n",
    "        'optimizer_state_dict': optimizer.state_dict(),\n",
    "        'train loss': avg_train_loss,\n",
    "        'val loss': avg_val_loss,\n",
    "        'train losses': train_losses,\n",
    "        'val losses': val_losses\n",
    "        }, os.path.join(save_path, f'checkpoint_{epoch}.pth'))\n",
    "    \n",
    "  return train_losses, val_losses"
   ]
  },
  {
   "cell_type": "markdown",
   "id": "d65cae7f",
   "metadata": {},
   "source": [
    "setup validation loader"
   ]
  },
  {
   "cell_type": "code",
   "execution_count": 38,
   "id": "4ed2271c",
   "metadata": {},
   "outputs": [
    {
     "data": {
      "text/plain": [
       "<torch.utils.data.dataloader.DataLoader at 0x7b9a20317be0>"
      ]
     },
     "execution_count": 38,
     "metadata": {},
     "output_type": "execute_result"
    }
   ],
   "source": [
    "instances_path = './preprocessed_labels/asl100/val_instances_fixed_bboxes_short.json'\n",
    "val_set = Dataset.VideoDataset(\n",
    "  root=raw_path,\n",
    "  instances_path=instances_path,\n",
    "  classes_path=classes_path,\n",
    "  transform=Dataset.min_transform_rI3d\n",
    ")\n",
    "val_loader = DataLoader(\n",
    "  val_set,\n",
    "  batch_size=2,\n",
    "  shuffle=True,\n",
    "  num_workers=0 #to use manual seed\n",
    ")\n",
    "val_loader"
   ]
  },
  {
   "cell_type": "code",
   "execution_count": 40,
   "id": "d98588fe",
   "metadata": {},
   "outputs": [
    {
     "ename": "AttributeError",
     "evalue": "module 'posixpath' has no attribute 'makedirs'",
     "output_type": "error",
     "traceback": [
      "\u001b[0;31m---------------------------------------------------------------------------\u001b[0m",
      "\u001b[0;31mAttributeError\u001b[0m                            Traceback (most recent call last)",
      "Cell \u001b[0;32mIn[40], line 1\u001b[0m\n\u001b[0;32m----> 1\u001b[0m train_losses, val_losses \u001b[38;5;241m=\u001b[39m \u001b[43mtrain_model_2\u001b[49m\u001b[43m(\u001b[49m\n\u001b[1;32m      2\u001b[0m \u001b[43m  \u001b[49m\u001b[43mmodel\u001b[49m\u001b[38;5;241;43m=\u001b[39;49m\u001b[43mmodel\u001b[49m\u001b[43m,\u001b[49m\n\u001b[1;32m      3\u001b[0m \u001b[43m  \u001b[49m\u001b[43mtrain_loader\u001b[49m\u001b[38;5;241;43m=\u001b[39;49m\u001b[43mtrain_loader\u001b[49m\u001b[43m,\u001b[49m\n\u001b[1;32m      4\u001b[0m \u001b[43m  \u001b[49m\u001b[43moptimizer\u001b[49m\u001b[38;5;241;43m=\u001b[39;49m\u001b[43moptimizer\u001b[49m\u001b[43m,\u001b[49m\n\u001b[1;32m      5\u001b[0m \u001b[43m  \u001b[49m\u001b[43mloss_func\u001b[49m\u001b[38;5;241;43m=\u001b[39;49m\u001b[43mloss_func\u001b[49m\u001b[43m,\u001b[49m\n\u001b[1;32m      6\u001b[0m \u001b[43m  \u001b[49m\u001b[43mepochs\u001b[49m\u001b[38;5;241;43m=\u001b[39;49m\u001b[38;5;241;43m100\u001b[39;49m\u001b[43m,\u001b[49m\n\u001b[1;32m      7\u001b[0m \u001b[43m  \u001b[49m\u001b[43mval_loader\u001b[49m\u001b[38;5;241;43m=\u001b[39;49m\u001b[43mval_loader\u001b[49m\u001b[43m,\u001b[49m\n\u001b[1;32m      8\u001b[0m \u001b[43m  \u001b[49m\u001b[43moutput\u001b[49m\u001b[38;5;241;43m=\u001b[39;49m\u001b[38;5;124;43m'\u001b[39;49m\u001b[38;5;124;43mruns/exp0_r3d18\u001b[39;49m\u001b[38;5;124;43m'\u001b[39;49m\n\u001b[1;32m      9\u001b[0m \u001b[43m)\u001b[49m\n",
      "Cell \u001b[0;32mIn[39], line 7\u001b[0m, in \u001b[0;36mtrain_model_2\u001b[0;34m(model, train_loader, optimizer, loss_func, epochs, val_loader, output, logs, save, save_every)\u001b[0m\n\u001b[1;32m      5\u001b[0m \u001b[38;5;28;01mif\u001b[39;00m save:\n\u001b[1;32m      6\u001b[0m   save_path \u001b[38;5;241m=\u001b[39m os\u001b[38;5;241m.\u001b[39mpath\u001b[38;5;241m.\u001b[39mjoin(output, save)\n\u001b[0;32m----> 7\u001b[0m   \u001b[43mos\u001b[49m\u001b[38;5;241;43m.\u001b[39;49m\u001b[43mpath\u001b[49m\u001b[38;5;241;43m.\u001b[39;49m\u001b[43mmakedirs\u001b[49m(save_path,exist_ok\u001b[38;5;241m=\u001b[39m\u001b[38;5;28;01mTrue\u001b[39;00m)\n\u001b[1;32m      8\u001b[0m logs_path \u001b[38;5;241m=\u001b[39m os\u001b[38;5;241m.\u001b[39mpath\u001b[38;5;241m.\u001b[39mjoin(output, logs)\n\u001b[1;32m      9\u001b[0m writer \u001b[38;5;241m=\u001b[39m SummaryWriter(logs_path) \u001b[38;5;66;03m#watching loss\u001b[39;00m\n",
      "\u001b[0;31mAttributeError\u001b[0m: module 'posixpath' has no attribute 'makedirs'"
     ]
    }
   ],
   "source": [
    "train_losses, val_losses = train_model_2(\n",
    "  model=model,\n",
    "  train_loader=train_loader,\n",
    "  optimizer=optimizer,\n",
    "  loss_func=loss_func,\n",
    "  epochs=100,\n",
    "  val_loader=val_loader,\n",
    "  output='runs/exp0_r3d18'\n",
    ")"
   ]
  }
 ],
 "metadata": {
  "kernelspec": {
   "display_name": ".venv",
   "language": "python",
   "name": "python3"
  },
  "language_info": {
   "codemirror_mode": {
    "name": "ipython",
    "version": 3
   },
   "file_extension": ".py",
   "mimetype": "text/x-python",
   "name": "python",
   "nbconvert_exporter": "python",
   "pygments_lexer": "ipython3",
   "version": "3.10.12"
  }
 },
 "nbformat": 4,
 "nbformat_minor": 5
}
