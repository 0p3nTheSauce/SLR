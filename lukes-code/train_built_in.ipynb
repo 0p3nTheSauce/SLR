{
 "cells": [
  {
   "cell_type": "markdown",
   "id": "272bbbd8",
   "metadata": {},
   "source": [
    "# Comparing different built in models with the available data"
   ]
  },
  {
   "cell_type": "code",
   "execution_count": 4,
   "id": "f9ce1502",
   "metadata": {},
   "outputs": [],
   "source": [
    "import torch\n",
    "from torch.utils.data import Dataset, DataLoader\n",
    "import torchvision.transforms as transforms\n",
    "import numpy as np\n",
    "import os\n",
    "from PIL import Image"
   ]
  },
  {
   "cell_type": "markdown",
   "id": "1d848e0c",
   "metadata": {},
   "source": [
    "### import custom dataset"
   ]
  },
  {
   "cell_type": "code",
   "execution_count": 5,
   "id": "9d00bc88",
   "metadata": {},
   "outputs": [],
   "source": [
    "from video_dataset import VideoDataset"
   ]
  },
  {
   "cell_type": "markdown",
   "id": "6c64b2d8",
   "metadata": {},
   "source": [
    "## 3D CNNs"
   ]
  },
  {
   "cell_type": "markdown",
   "id": "4c557646",
   "metadata": {},
   "source": [
    "### r3d_18\n",
    "\n",
    "There may be some issues with memory..."
   ]
  },
  {
   "cell_type": "code",
   "execution_count": null,
   "id": "5cbe3b27",
   "metadata": {},
   "outputs": [],
   "source": []
  }
 ],
 "metadata": {
  "kernelspec": {
   "display_name": ".venv",
   "language": "python",
   "name": "python3"
  },
  "language_info": {
   "codemirror_mode": {
    "name": "ipython",
    "version": 3
   },
   "file_extension": ".py",
   "mimetype": "text/x-python",
   "name": "python",
   "nbconvert_exporter": "python",
   "pygments_lexer": "ipython3",
   "version": "3.10.12"
  }
 },
 "nbformat": 4,
 "nbformat_minor": 5
}
