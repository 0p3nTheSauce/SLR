{
 "cells": [
  {
   "cell_type": "markdown",
   "id": "d89ceb0a",
   "metadata": {},
   "source": [
    "# The best performing model so far on asl100"
   ]
  },
  {
   "cell_type": "code",
   "execution_count": 79,
   "id": "0a7497c8",
   "metadata": {},
   "outputs": [],
   "source": [
    "import torch\n",
    "import test\n",
    "from configs import Config\n",
    "from torchvision.transforms import v2\n",
    "from video_dataset import VideoDataset\n",
    "import os\n",
    "from torch.utils.data import DataLoader\n",
    "from models.pytorch_r3d import Resnet3D18_basic\n",
    "import json\n",
    "import utils"
   ]
  },
  {
   "cell_type": "code",
   "execution_count": 80,
   "id": "03c45419",
   "metadata": {},
   "outputs": [
    {
     "name": "stdout",
     "output_type": "stream",
     "text": [
      "Testting r3d18 on split asl100 \n",
      "              Experiment no: 006 \n",
      "              Raw videos at: ../data/WLASL2000\n",
      "              Labels at: ./preprocessed/labels/asl100\n",
      "              Saving files to: runs/asl100/r3d18_exp006\n",
      "              Model weights: best.pth\n",
      "              Config:\n",
      "\t\tModel: <class 'models.pytorch_r3d.Resnet3D18_basic'>\n",
      "\t\tWeights Path: \n",
      "\t\tFrozen layers: []\n",
      "\t\tScheduler: t_max=100, eta_min=1e-05\n",
      "\t\tTraining: bs=6, steps=64000, ups=1\n",
      "\t\tOptimizer: lr=0.001, eps=0.001, wd=1e-07\n",
      "\t\tBackbone: lr=1e-05, wd=0.0001\n",
      "\t\tClassifier: lr=0.001, wd=0.0001\n",
      "              \n",
      "\n",
      "          \n"
     ]
    }
   ],
   "source": [
    "torch.manual_seed(42)\n",
    "model = 'r3d18'\n",
    "split = 'asl100'\n",
    "exp_no = '6'.zfill(3)\n",
    "\n",
    "\n",
    "root = '../data/WLASL2000'\n",
    "labels=f'./preprocessed/labels/{split}'\n",
    "output=f'runs/{split}/{model}_exp{exp_no}'\n",
    "config_path = f'./configfiles/{split}/{model}_{exp_no}.ini'\n",
    "configs = Config(config_path)\n",
    "model_dict='best.pth'\n",
    "classes_path = './wlasl_class_list.json'\n",
    "label_suffix='_fixed_frange_bboxes_len.json'\n",
    "title = f'''Testting {model} on split {split} \n",
    "              Experiment no: {exp_no} \n",
    "              Raw videos at: {root}\n",
    "              Labels at: {labels}\n",
    "              Saving files to: {output}\n",
    "              Model weights: {model_dict}\n",
    "              {str(configs)}\n",
    "              \\n\n",
    "          '''\n",
    "print(title)"
   ]
  },
  {
   "cell_type": "code",
   "execution_count": 81,
   "id": "05ba5706",
   "metadata": {},
   "outputs": [],
   "source": [
    "\n",
    "# test.run_test_r3d18_1(configs,\n",
    "#                       root=root,\n",
    "#                       output=output,\n",
    "#                       labels=labels,\n",
    "#                       model_dict=model_dict,\n",
    "#                       save=True)"
   ]
  },
  {
   "cell_type": "code",
   "execution_count": 82,
   "id": "72fac041",
   "metadata": {},
   "outputs": [],
   "source": [
    "#setup transforms\n",
    "base_mean = [0.43216, 0.394666, 0.37645]\n",
    "base_std = [0.22803, 0.22145, 0.216989]\n",
    "\n",
    "r3d18_final = v2.Compose([\n",
    "  v2.Lambda(lambda x: x.float() / 255.0),\n",
    "  # v2.Lambda(lambda x: vt.normalise(x, base_mean, base_std)),\n",
    "  v2.Normalize(mean=base_mean, std=base_std),\n",
    "  v2.Lambda(lambda x: x.permute(1,0,2,3)) \n",
    "])\n",
    "\n",
    "test_transforms = v2.Compose([v2.CenterCrop(224),\n",
    "                              r3d18_final])\n",
    "\n",
    "#setup data\n",
    "test_instances = os.path.join(labels, 'test_instances_fixed_frange_bboxes_len.json')\n",
    "test_classes = os.path.join(labels, 'test_classes_fixed_frange_bboxes_len.json')\n",
    "\n",
    "test_set = VideoDataset(root, test_instances, test_classes,\n",
    "                        transforms=test_transforms, num_frames=32)\n",
    "test_loader = DataLoader(test_set, batch_size=1,shuffle=False,\n",
    "                          num_workers=0)\n",
    "num_classes = len(set(test_set.classes))\n",
    "# print(num_classes)"
   ]
  },
  {
   "cell_type": "code",
   "execution_count": 83,
   "id": "206f7277",
   "metadata": {},
   "outputs": [],
   "source": [
    "\n",
    "\n",
    "# #setup model\n",
    "# r3d18 = Resnet3D18_basic(num_classes=num_classes, drop_p=configs.drop_p,)\n",
    "# r3d18_dict = torch.load(os.path.join(output,'checkpoints', model_dict)) #future warning, use weights_only=True (security stuff if you dont know the file)\n",
    "# # print(r3d18_dict)\n",
    "# r3d18.load_state_dict(r3d18_dict)\n",
    "# r3d18.cuda()\n",
    "# r3d18.eval()\n",
    "\n",
    "# accuracy, class_report = test.test_model(r3d18, test_loader)\n",
    "# print(f'Accuracy score: {accuracy}')"
   ]
  },
  {
   "cell_type": "code",
   "execution_count": 84,
   "id": "b6df4d5c",
   "metadata": {},
   "outputs": [],
   "source": [
    "# test.plot_heatmap(class_report, classes_path)"
   ]
  },
  {
   "cell_type": "code",
   "execution_count": 85,
   "id": "6168add1",
   "metadata": {},
   "outputs": [],
   "source": [
    "# test.plot_bar_graph(class_report, classes_path)"
   ]
  },
  {
   "cell_type": "markdown",
   "id": "aadc9327",
   "metadata": {},
   "source": [
    "## Whats weird is that the classes can almost be split into distinct difficulty groups\n",
    "\n",
    "The model seems to have fully learned some signs, while completely failing to learn others. The rest have stagering degrees of recognition\n"
   ]
  },
  {
   "cell_type": "markdown",
   "id": "4dcb7905",
   "metadata": {},
   "source": [
    "### Lets see if we can visualise what it sees for the sign 'thursday'\n"
   ]
  },
  {
   "cell_type": "code",
   "execution_count": 86,
   "id": "73bc2931",
   "metadata": {},
   "outputs": [
    {
     "name": "stdout",
     "output_type": "stream",
     "text": [
      "thursday\n"
     ]
    }
   ],
   "source": [
    "\n",
    "with open(classes_path, 'r') as f:\n",
    "  class_list = json.load(f)\n",
    "print(class_list[99])"
   ]
  },
  {
   "cell_type": "code",
   "execution_count": 87,
   "id": "5a43d381",
   "metadata": {},
   "outputs": [
    {
     "name": "stdout",
     "output_type": "stream",
     "text": [
      "['right', 'same', 'same', 'same', 'son', 'son', 'tell', 'tell', 'thursday', 'thursday']\n"
     ]
    }
   ],
   "source": [
    "print(test_set.classes[-10:])"
   ]
  },
  {
   "cell_type": "code",
   "execution_count": 88,
   "id": "02092879",
   "metadata": {},
   "outputs": [
    {
     "name": "stdout",
     "output_type": "stream",
     "text": [
      "258\n"
     ]
    }
   ],
   "source": [
    "print(len(test_set))"
   ]
  },
  {
   "cell_type": "code",
   "execution_count": 89,
   "id": "82b93d09",
   "metadata": {},
   "outputs": [],
   "source": [
    "item = test_set.data[256]"
   ]
  },
  {
   "cell_type": "code",
   "execution_count": 90,
   "id": "b2c8493c",
   "metadata": {},
   "outputs": [],
   "source": [
    "def print_dict(dic):\n",
    "  print(\"{\")\n",
    "  for key, value in dic.items():\n",
    "    print(f\"'{key}': {value}\")\n",
    "  print(\"}\")  "
   ]
  },
  {
   "cell_type": "code",
   "execution_count": 91,
   "id": "003b963f",
   "metadata": {},
   "outputs": [
    {
     "name": "stdout",
     "output_type": "stream",
     "text": [
      "{\n",
      "'label_num': 99\n",
      "'frame_end': 46\n",
      "'frame_start': 1\n",
      "'video_id': 58359\n",
      "'bbox': [51, 41, 212, 222]\n",
      "}\n"
     ]
    }
   ],
   "source": [
    "\n",
    "frames= test_set.__manual_load__(item)\n",
    "print_dict(item)"
   ]
  },
  {
   "cell_type": "code",
   "execution_count": 92,
   "id": "59d75677",
   "metadata": {},
   "outputs": [
    {
     "name": "stdout",
     "output_type": "stream",
     "text": [
      "32\n",
      "<class 'torch.Tensor'>\n"
     ]
    }
   ],
   "source": [
    "print(len(frames))\n",
    "print(type(frames))"
   ]
  },
  {
   "cell_type": "code",
   "execution_count": 93,
   "id": "93975d29",
   "metadata": {},
   "outputs": [
    {
     "name": "stdout",
     "output_type": "stream",
     "text": [
      "torch.Size([32, 3, 256, 256])\n"
     ]
    }
   ],
   "source": [
    "print(frames.shape)"
   ]
  },
  {
   "cell_type": "code",
   "execution_count": 94,
   "id": "0089d543",
   "metadata": {},
   "outputs": [],
   "source": [
    "utils.watch_video(frames)\n",
    "# utils.visualise_frames(frames, 32)"
   ]
  },
  {
   "cell_type": "markdown",
   "id": "18845e7e",
   "metadata": {},
   "source": [
    "### Honestly quite difficult, let's look at another"
   ]
  },
  {
   "cell_type": "code",
   "execution_count": 95,
   "id": "d68ee042",
   "metadata": {},
   "outputs": [
    {
     "name": "stdout",
     "output_type": "stream",
     "text": [
      "{\n",
      "'label_num': 99\n",
      "'frame_end': 92\n",
      "'frame_start': 0\n",
      "'video_id': 70026\n",
      "'bbox': [61, 30, 199, 235]\n",
      "}\n",
      "32\n"
     ]
    }
   ],
   "source": [
    "item1 = test_set.data[257]\n",
    "frames1= test_set.__manual_load__(item1)\n",
    "print_dict(item1)\n",
    "print(len(frames1))"
   ]
  },
  {
   "cell_type": "code",
   "execution_count": 96,
   "id": "0b31d9d7",
   "metadata": {},
   "outputs": [],
   "source": [
    "utils.watch_video(frames1)"
   ]
  },
  {
   "cell_type": "code",
   "execution_count": 97,
   "id": "468eba3a",
   "metadata": {},
   "outputs": [
    {
     "name": "stdout",
     "output_type": "stream",
     "text": [
      "{'label_num': 99, 'frame_end': 46, 'frame_start': 1, 'video_id': '58359', 'bbox': [51, 41, 212, 222]}\n"
     ]
    }
   ],
   "source": [
    "print(item)"
   ]
  },
  {
   "cell_type": "markdown",
   "id": "9965c080",
   "metadata": {},
   "source": [
    "### Let's gander at the originals"
   ]
  },
  {
   "cell_type": "code",
   "execution_count": 98,
   "id": "40c53e1f",
   "metadata": {},
   "outputs": [
    {
     "name": "stdout",
     "output_type": "stream",
     "text": [
      "45\n",
      "../data/WLASL2000/58359.mp4\n"
     ]
    }
   ],
   "source": [
    "vid_path = os.path.join(root, f\"{item['video_id']}.mp4\")\n",
    "frames_o = utils.load_rgb_frames_from_video(vid_path, item['frame_start'],\n",
    "                                          item['frame_end'])\n",
    "print(len(frames_o))\n",
    "print(vid_path)"
   ]
  },
  {
   "cell_type": "code",
   "execution_count": 99,
   "id": "0750c66f",
   "metadata": {},
   "outputs": [],
   "source": [
    "utils.watch_video(frames_o)"
   ]
  },
  {
   "cell_type": "code",
   "execution_count": 100,
   "id": "53fad379",
   "metadata": {},
   "outputs": [
    {
     "name": "stdout",
     "output_type": "stream",
     "text": [
      "92\n",
      "../data/WLASL2000/70026.mp4\n"
     ]
    }
   ],
   "source": [
    "vid_path1 = os.path.join(root, f\"{item1['video_id']}.mp4\")\n",
    "frames_o1 = utils.load_rgb_frames_from_video(vid_path1, item1['frame_start'],\n",
    "                                          item1['frame_end'])\n",
    "print(len(frames_o1))\n",
    "print(vid_path1)"
   ]
  },
  {
   "cell_type": "code",
   "execution_count": 101,
   "id": "2dba9e29",
   "metadata": {},
   "outputs": [],
   "source": [
    "utils.watch_video(frames_o1)"
   ]
  },
  {
   "cell_type": "markdown",
   "id": "e32a4284",
   "metadata": {},
   "source": [
    "### Okay cool they are not being distorted too much through loading, lets see after transforms"
   ]
  },
  {
   "cell_type": "code",
   "execution_count": 102,
   "id": "11677c10",
   "metadata": {},
   "outputs": [
    {
     "name": "stdout",
     "output_type": "stream",
     "text": [
      "torch.uint8\n",
      "torch.Size([32, 3, 224, 224])\n"
     ]
    }
   ],
   "source": [
    "frames_t = test_transforms(frames)\n",
    "frames_t = frames_t.permute(1,0,2,3) #just reuturn back to T C H W\n",
    "frames_t = (frames_t * 255).clamp(0, 255).to(torch.uint8)\n",
    "\n",
    "print(frames_t.dtype)\n",
    "print(frames_t.shape)"
   ]
  },
  {
   "cell_type": "code",
   "execution_count": 103,
   "id": "51c01ed1",
   "metadata": {},
   "outputs": [],
   "source": [
    "utils.watch_video(frames_t)"
   ]
  },
  {
   "cell_type": "code",
   "execution_count": 104,
   "id": "2d52b750",
   "metadata": {},
   "outputs": [
    {
     "name": "stdout",
     "output_type": "stream",
     "text": [
      "torch.uint8\n",
      "torch.Size([32, 3, 224, 224])\n"
     ]
    }
   ],
   "source": [
    "frames_t1 = test_transforms(frames1)\n",
    "frames_t1 = frames_t1.permute(1,0,2,3) #just reuturn back to T C H W\n",
    "frames_t1 = (frames_t1 * 255).clamp(0, 255).to(torch.uint8)\n",
    "\n",
    "print(frames_t1.dtype)\n",
    "print(frames_t1.shape)"
   ]
  },
  {
   "cell_type": "code",
   "execution_count": 105,
   "id": "53125fb5",
   "metadata": {},
   "outputs": [],
   "source": [
    "utils.watch_video(frames_t1)"
   ]
  },
  {
   "cell_type": "markdown",
   "id": "0633e2a4",
   "metadata": {},
   "source": [
    "### Normalising seems to have quite a significant effect on the videos appearence, but stil decernable"
   ]
  },
  {
   "cell_type": "markdown",
   "id": "877a522d",
   "metadata": {},
   "source": [
    "## Let's view some samples of this class from the training set"
   ]
  },
  {
   "cell_type": "code",
   "execution_count": 106,
   "id": "581f9c31",
   "metadata": {},
   "outputs": [],
   "source": [
    "train_transforms, test_transforms = configs.get_transforms()\n",
    "  \n",
    "train_instances = os.path.join(labels, f'train_instances{label_suffix}')\n",
    "train_classes = os.path.join(labels, f'train_classes{label_suffix}')"
   ]
  },
  {
   "cell_type": "code",
   "execution_count": 107,
   "id": "2d6d52eb",
   "metadata": {},
   "outputs": [
    {
     "name": "stdout",
     "output_type": "stream",
     "text": [
      "1442\n",
      "100\n"
     ]
    }
   ],
   "source": [
    "dataset = VideoDataset(root,train_instances, train_classes,\n",
    "    transforms=train_transforms, num_frames=configs.num_frames)\n",
    "dataloader = DataLoader(dataset, batch_size=1,\n",
    "  shuffle=False, num_workers=0,pin_memory=False)\n",
    "print(len(dataset))\n",
    "num_classes = len(set(dataset.classes))\n",
    "print(num_classes)"
   ]
  },
  {
   "cell_type": "code",
   "execution_count": 108,
   "id": "a97b71e3",
   "metadata": {},
   "outputs": [
    {
     "name": "stdout",
     "output_type": "stream",
     "text": [
      "['thursday', 'thursday', 'thursday', 'thursday', 'thursday', 'thursday', 'thursday', 'thursday', 'thursday', 'thursday', 'thursday', 'thursday', 'thursday']\n"
     ]
    }
   ],
   "source": [
    "print(dataset.classes[-13:])"
   ]
  },
  {
   "cell_type": "code",
   "execution_count": 109,
   "id": "e130ed6e",
   "metadata": {},
   "outputs": [
    {
     "name": "stdout",
     "output_type": "stream",
     "text": [
      "{\n",
      "'label_num': 99\n",
      "'frame_end': 74\n",
      "'frame_start': 1\n",
      "'video_id': 58361\n",
      "'bbox': [65, 24, 191, 237]\n",
      "}\n",
      "{\n",
      "'label_num': 99\n",
      "'frame_end': 71\n",
      "'frame_start': 1\n",
      "'video_id': 58360\n",
      "'bbox': [45, 40, 205, 220]\n",
      "}\n",
      "{\n",
      "'label_num': 99\n",
      "'frame_end': 55\n",
      "'frame_start': 1\n",
      "'video_id': 58369\n",
      "'bbox': [52, 37, 198, 225]\n",
      "}\n",
      "{\n",
      "'label_num': 99\n",
      "'frame_end': 43\n",
      "'frame_start': 1\n",
      "'video_id': 67306\n",
      "'bbox': [54, 33, 200, 228]\n",
      "}\n",
      "{\n",
      "'label_num': 99\n",
      "'frame_end': 58\n",
      "'frame_start': 1\n",
      "'video_id': 66640\n",
      "'bbox': [43, 40, 210, 220]\n",
      "}\n",
      "{\n",
      "'label_num': 99\n",
      "'frame_end': 64\n",
      "'frame_start': 1\n",
      "'video_id': 66639\n",
      "'bbox': [42, 39, 210, 219]\n",
      "}\n",
      "{\n",
      "'label_num': 99\n",
      "'frame_end': 77\n",
      "'frame_start': 1\n",
      "'video_id': 66638\n",
      "'bbox': [51, 34, 204, 226]\n",
      "}\n",
      "{\n",
      "'label_num': 99\n",
      "'frame_end': 72\n",
      "'frame_start': 1\n",
      "'video_id': 66637\n",
      "'bbox': [49, 35, 205, 223]\n",
      "}\n",
      "{\n",
      "'label_num': 99\n",
      "'frame_end': 49\n",
      "'frame_start': 1\n",
      "'video_id': 58367\n",
      "'bbox': [44, 28, 210, 255]\n",
      "}\n",
      "{\n",
      "'label_num': 99\n",
      "'frame_end': 33\n",
      "'frame_start': 1\n",
      "'video_id': 58366\n",
      "'bbox': [53, 30, 202, 255]\n",
      "}\n",
      "{\n",
      "'label_num': 99\n",
      "'frame_end': 38\n",
      "'frame_start': 1\n",
      "'video_id': 58364\n",
      "'bbox': [41, 45, 214, 217]\n",
      "}\n",
      "{\n",
      "'label_num': 99\n",
      "'frame_end': 58\n",
      "'frame_start': 1\n",
      "'video_id': 58363\n",
      "'bbox': [42, 34, 206, 224]\n",
      "}\n",
      "{\n",
      "'label_num': 99\n",
      "'frame_end': 50\n",
      "'frame_start': 1\n",
      "'video_id': 58362\n",
      "'bbox': [51, 26, 206, 230]\n",
      "}\n"
     ]
    }
   ],
   "source": [
    "titems = [dataset.data[i] for i in range(-1, -14, -1)]\n",
    "\n",
    "for itm in titems:\n",
    "  print_dict(itm)"
   ]
  },
  {
   "cell_type": "code",
   "execution_count": 112,
   "id": "7ec4a688",
   "metadata": {},
   "outputs": [],
   "source": [
    "for itm in titems:\n",
    "  tframes = dataset.__manual_load__(itm)\n",
    "  utils.watch_video(tframes)"
   ]
  },
  {
   "cell_type": "code",
   "execution_count": 113,
   "id": "de75ddfa",
   "metadata": {},
   "outputs": [],
   "source": [
    "#with transforms\n",
    "for itm in titems:\n",
    "  tframes = dataset.__manual_load__(itm)\n",
    "  tframes = test_transforms(tframes)\n",
    "  tframes = tframes.permute(1,0,2,3) #just reuturn back to T C H W\n",
    "  tframes = (tframes * 255).clamp(0, 255).to(torch.uint8)\n",
    "  utils.watch_video(tframes)\n"
   ]
  },
  {
   "cell_type": "markdown",
   "id": "34f37401",
   "metadata": {},
   "source": [
    "### This does at least make me think I should be trying the effect of colour jitter"
   ]
  }
 ],
 "metadata": {
  "kernelspec": {
   "display_name": "wlasl",
   "language": "python",
   "name": "python3"
  },
  "language_info": {
   "codemirror_mode": {
    "name": "ipython",
    "version": 3
   },
   "file_extension": ".py",
   "mimetype": "text/x-python",
   "name": "python",
   "nbconvert_exporter": "python",
   "pygments_lexer": "ipython3",
   "version": "3.10.18"
  }
 },
 "nbformat": 4,
 "nbformat_minor": 5
}
