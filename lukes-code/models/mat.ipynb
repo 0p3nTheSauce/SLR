{
 "cells": [
  {
   "cell_type": "code",
   "execution_count": null,
   "id": "944857d6",
   "metadata": {},
   "outputs": [],
   "source": [
    "A = [[7, 0, 3, 5, 1, 5],\n",
    "     [7, 0, 8, 5, 4, 2],\n",
    "     [9, 1, 7, 0, 1, 5],\n",
    "     [9, 6, 0, 6, 9, 5],\n",
    "     [1, 5, 3, 4, 9, 6],\n",
    "     [6, 3, 3, 4, 8, 4]]\n",
    "\n"
   ]
  }
 ],
 "metadata": {
  "kernelspec": {
   "display_name": "wlasl",
   "language": "python",
   "name": "python3"
  },
  "language_info": {
   "name": "python",
   "version": "3.10.18"
  }
 },
 "nbformat": 4,
 "nbformat_minor": 5
}
