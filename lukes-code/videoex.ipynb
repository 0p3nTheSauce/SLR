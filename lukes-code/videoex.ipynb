{
 "cells": [
  {
   "cell_type": "code",
   "execution_count": 2,
   "id": "b6f70333",
   "metadata": {},
   "outputs": [
    {
     "name": "stdout",
     "output_type": "stream",
     "text": [
      "torch.__version__='2.7.1+cu126'\n",
      "torch.cuda.is_available()=True\n",
      "torch.cuda.get_device_properties(0)=_CudaDeviceProperties(name='NVIDIA GeForce GTX 1080 Ti', major=6, minor=1, total_memory=11165MB, multi_processor_count=28, uuid=319028de-b377-32bc-7c0c-63b81dd01ad1, L2_cache_size=2MB)\n"
     ]
    }
   ],
   "source": [
    "import torch\n",
    "\n",
    "print(f\"{torch.__version__=}\")\n",
    "print(f\"{torch.cuda.is_available()=}\")\n",
    "print(f\"{torch.cuda.get_device_properties(0)=}\")"
   ]
  },
  {
   "cell_type": "code",
   "execution_count": 3,
   "id": "859dd02b",
   "metadata": {},
   "outputs": [
    {
     "data": {
      "text/plain": [
       "('video.mp4', <http.client.HTTPMessage at 0x7c1a70512860>)"
      ]
     },
     "execution_count": 3,
     "metadata": {},
     "output_type": "execute_result"
    }
   ],
   "source": [
    "import urllib.request\n",
    "\n",
    "video_file = \"video.mp4\"\n",
    "urllib.request.urlretrieve(\n",
    "    \"https://download.pytorch.org/torchaudio/tutorial-assets/stream-api/NASAs_Most_Scientifically_Complex_Space_Observatory_Requires_Precision-MP4_small.mp4\",\n",
    "    video_file,\n",
    ")"
   ]
  },
  {
   "cell_type": "code",
   "execution_count": 5,
   "id": "dafeaef8",
   "metadata": {},
   "outputs": [
    {
     "name": "stdout",
     "output_type": "stream",
     "text": [
      "CUDA available: True\n",
      "CUDA device count: 1\n",
      "Current CUDA device: 0\n",
      "CUDA device name: NVIDIA GeForce GTX 1080 Ti\n",
      "PyTorch CUDA version: 12.6\n"
     ]
    }
   ],
   "source": [
    "import torch\n",
    "\n",
    "print(f\"CUDA available: {torch.cuda.is_available()}\")\n",
    "if torch.cuda.is_available():\n",
    "    print(f\"CUDA device count: {torch.cuda.device_count()}\")\n",
    "    print(f\"Current CUDA device: {torch.cuda.current_device()}\")\n",
    "    print(f\"CUDA device name: {torch.cuda.get_device_name(0)}\") # Assuming at least one GPU\n",
    "    print(f\"PyTorch CUDA version: {torch.version.cuda}\")\n",
    "else:\n",
    "    print(\"PyTorch cannot find or use CUDA.\")"
   ]
  },
  {
   "cell_type": "code",
   "execution_count": 6,
   "id": "56963a12",
   "metadata": {},
   "outputs": [],
   "source": [
    "from torchcodec.decoders import VideoDecoder\n",
    "\n",
    "decoder = VideoDecoder(video_file, device=\"cuda\")\n",
    "frame = decoder[0]"
   ]
  },
  {
   "cell_type": "code",
   "execution_count": 7,
   "id": "97c927a9",
   "metadata": {},
   "outputs": [
    {
     "name": "stdout",
     "output_type": "stream",
     "text": [
      "torch.Size([3, 540, 960]) torch.uint8\n"
     ]
    }
   ],
   "source": [
    "print(frame.shape, frame.dtype)"
   ]
  },
  {
   "cell_type": "code",
   "execution_count": 8,
   "id": "90d9b0bb",
   "metadata": {},
   "outputs": [
    {
     "name": "stdout",
     "output_type": "stream",
     "text": [
      "cuda:0\n"
     ]
    }
   ],
   "source": [
    "print(frame.data.device)"
   ]
  },
  {
   "cell_type": "code",
   "execution_count": 10,
   "id": "37ca67d5",
   "metadata": {},
   "outputs": [],
   "source": [
    "import cv2\n",
    "import numpy as np\n",
    "frame = decoder[20]\n",
    "\n",
    "def show_frame(frame):\n",
    "    frame = frame.cpu().numpy()\n",
    "    frame = np.transpose(frame, (1, 2, 0))  # Convert from CxHxW to HxWxC\n",
    "    cv2.imshow(\"Frame\", frame)\n",
    "    key = cv2.waitKey(0)\n",
    "    if key == 27:\n",
    "      cv2.destroyAllWindows()\n",
    "    \n",
    "show_frame(frame)"
   ]
  }
 ],
 "metadata": {
  "kernelspec": {
   "display_name": ".venv",
   "language": "python",
   "name": "python3"
  },
  "language_info": {
   "codemirror_mode": {
    "name": "ipython",
    "version": 3
   },
   "file_extension": ".py",
   "mimetype": "text/x-python",
   "name": "python",
   "nbconvert_exporter": "python",
   "pygments_lexer": "ipython3",
   "version": "3.10.12"
  }
 },
 "nbformat": 4,
 "nbformat_minor": 5
}
