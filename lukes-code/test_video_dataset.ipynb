{
 "cells": [
  {
   "cell_type": "markdown",
   "id": "5c4f8b4a",
   "metadata": {},
   "source": [
    "# Test the custom video dataset class\n",
    "\n",
    "Using a small subset of the class"
   ]
  },
  {
   "cell_type": "markdown",
   "id": "d07bc9a0",
   "metadata": {},
   "source": [
    "### Torch setup"
   ]
  },
  {
   "cell_type": "code",
   "execution_count": 1,
   "id": "05d57689",
   "metadata": {},
   "outputs": [
    {
     "name": "stdout",
     "output_type": "stream",
     "text": [
      "Using PyTorch version: 2.7.1+cu126\n"
     ]
    }
   ],
   "source": [
    "import torch\n",
    "from torch import nn\n",
    "\n",
    "print(\"Using PyTorch version:\", torch.__version__)"
   ]
  },
  {
   "cell_type": "code",
   "execution_count": 2,
   "id": "6f2b043c",
   "metadata": {},
   "outputs": [
    {
     "name": "stdout",
     "output_type": "stream",
     "text": [
      "Using device: cuda\n"
     ]
    }
   ],
   "source": [
    "device = torch.device(\"cuda\" if torch.cuda.is_available() else \"cpu\")\n",
    "print(\"Using device:\", device)"
   ]
  },
  {
   "cell_type": "markdown",
   "id": "622fc15c",
   "metadata": {},
   "source": [
    "### Explore data"
   ]
  },
  {
   "cell_type": "code",
   "execution_count": null,
   "id": "c70256a4",
   "metadata": {},
   "outputs": [],
   "source": [
    "import os\n",
    "\n",
    "data_path = \"../data/\"\n",
    "split_path = data_path + \"splits/asl100.json\"\n",
    "raw_path = data_path + \"WLASL2000/\"\n",
    "print(f\"split path exists: {os.path.exists(split_path)}\\n\")\n",
    "print(f\"raw videos path exists: {os.path.exists(raw_path)}\\n\")"
   ]
  }
 ],
 "metadata": {
  "kernelspec": {
   "display_name": ".venv",
   "language": "python",
   "name": "python3"
  },
  "language_info": {
   "codemirror_mode": {
    "name": "ipython",
    "version": 3
   },
   "file_extension": ".py",
   "mimetype": "text/x-python",
   "name": "python",
   "nbconvert_exporter": "python",
   "pygments_lexer": "ipython3",
   "version": "3.10.12"
  }
 },
 "nbformat": 4,
 "nbformat_minor": 5
}
