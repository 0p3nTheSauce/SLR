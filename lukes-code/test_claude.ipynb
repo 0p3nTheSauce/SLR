{
 "cells": [
  {
   "cell_type": "markdown",
   "id": "7a749c1d",
   "metadata": {},
   "source": [
    "# Visualising different normalisation"
   ]
  },
  {
   "cell_type": "code",
   "execution_count": 1,
   "id": "7f214186",
   "metadata": {},
   "outputs": [],
   "source": [
    "import claud_ex\n",
    "import utils"
   ]
  },
  {
   "cell_type": "code",
   "execution_count": 3,
   "id": "aa9ca84d",
   "metadata": {},
   "outputs": [
    {
     "name": "stdout",
     "output_type": "stream",
     "text": [
      "torch.Size([64, 3, 256, 256])\n"
     ]
    }
   ],
   "source": [
    "sample = './media/69241.mp4'\n",
    "frames = utils.load_rgb_frames_from_video(sample, 0, 0, all=True)\n",
    "print(frames.shape)"
   ]
  },
  {
   "cell_type": "code",
   "execution_count": 4,
   "id": "85ee2250",
   "metadata": {},
   "outputs": [],
   "source": [
    "import torch\n",
    "import torchvision.transforms as transforms\n",
    "import torch.nn.functional as F\n",
    "import random\n",
    "import numpy as np"
   ]
  },
  {
   "cell_type": "code",
   "execution_count": 5,
   "id": "7f4936a5",
   "metadata": {},
   "outputs": [],
   "source": [
    "base_mean = [0.43216, 0.394666, 0.37645]\n",
    "base_std = [0.22803, 0.22145, 0.216989]\n",
    "base_transform = transforms.Compose([\n",
    "  transforms.Lambda(lambda x: correct_num_frames(x, 16)),\n",
    "  transforms.Lambda(lambda x: x.float() / 255.0),\n",
    "  transforms.Lambda(lambda x: F.interpolate(x, size=(112, 112), \n",
    "                    mode='bilinear', align_corners=False)),\n",
    "])\n",
    "    "
   ]
  },
  {
   "cell_type": "markdown",
   "id": "d6a2f41d",
   "metadata": {},
   "source": [
    "### Visualise base"
   ]
  },
  {
   "cell_type": "code",
   "execution_count": null,
   "id": "7b308e28",
   "metadata": {},
   "outputs": [],
   "source": []
  },
  {
   "cell_type": "markdown",
   "id": "9448c364",
   "metadata": {},
   "source": [
    "## Random normalisation"
   ]
  },
  {
   "cell_type": "code",
   "execution_count": 6,
   "id": "be81c60c",
   "metadata": {},
   "outputs": [],
   "source": [
    "augment_prob=0.5\n",
    "rand_norm_aug = claud_ex.RandomNormalizationAugmentation(\n",
    "  base_mean=base_mean,\n",
    "  base_std=base_std,\n",
    "  mean_var=0.05,\n",
    "  std_var=0.03,\n",
    "  prob=augment_prob\n",
    ")"
   ]
  },
  {
   "cell_type": "code",
   "execution_count": 8,
   "id": "32ea77bd",
   "metadata": {},
   "outputs": [],
   "source": [
    "permute_fin = lambda x: x.permute(1,0,2,3)\n",
    "\n",
    "based_rand_norm_aug = transforms.Compose([\n",
    "  base_transform,\n",
    "  transforms.Lambda(rand_norm_aug),\n",
    "  transforms.Lambda(permute_fin)\n",
    "])"
   ]
  },
  {
   "cell_type": "markdown",
   "id": "a32c52de",
   "metadata": {},
   "source": [
    "## Adaptive normalisation"
   ]
  },
  {
   "cell_type": "code",
   "execution_count": 20,
   "id": "f7356f7f",
   "metadata": {},
   "outputs": [
    {
     "name": "stdout",
     "output_type": "stream",
     "text": [
      "base mean: tensor([0.4322, 0.3947, 0.3765])\n",
      "base std: tensor([0.2280, 0.2215, 0.2170])\n",
      "Video mean: tensor([65.9386, 71.3979, 69.5703])\n",
      "Video std: tensor([41.4943, 49.9189, 53.7432])\n",
      "adaptive mean: tensor([20.0841, 21.6957, 21.1346])\n",
      "adaptive std: tensor([12.6079, 15.1307, 16.2748])\n"
     ]
    }
   ],
   "source": [
    "\n",
    "base_mean = base_mean.clone().detach().float()\n",
    "base_std = base_std.clone().detach().float()\n",
    "print(f'base mean: {base_mean}')\n",
    "print(f'base std: {base_std}')\n",
    "\n",
    "\n",
    "video_mean = frames.float().mean(dim=[0,2,3])\n",
    "video_std = frames.float().std(dim=[0,2,3])\n",
    "\n",
    "video_mean = video_mean.clone().detach().float()\n",
    "video_std = video_std.clone().detach().float()\n",
    "print(f'Video mean: {video_mean}')\n",
    "print(f'Video std: {video_std}')\n",
    "adm = (1-0.3) * base_mean + 0.3 * video_mean\n",
    "ads = (1 - 0.3) * base_std + 0.3 * video_std\n",
    "print(f'adaptive mean: {adm}')\n",
    "print(f'adaptive std: {ads}')\n"
   ]
  }
 ],
 "metadata": {
  "kernelspec": {
   "display_name": "wlasl",
   "language": "python",
   "name": "python3"
  },
  "language_info": {
   "codemirror_mode": {
    "name": "ipython",
    "version": 3
   },
   "file_extension": ".py",
   "mimetype": "text/x-python",
   "name": "python",
   "nbconvert_exporter": "python",
   "pygments_lexer": "ipython3",
   "version": "3.10.18"
  }
 },
 "nbformat": 4,
 "nbformat_minor": 5
}
