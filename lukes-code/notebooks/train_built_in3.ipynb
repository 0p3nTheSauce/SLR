{
 "cells": [
  {
   "cell_type": "markdown",
   "id": "87316591",
   "metadata": {},
   "source": [
    "# Model has been overfitting, so going to try some augmentation and regularisation"
   ]
  },
  {
   "cell_type": "code",
   "execution_count": 2,
   "id": "55f29cda",
   "metadata": {},
   "outputs": [
    {
     "name": "stderr",
     "output_type": "stream",
     "text": [
      "/home/luke/miniconda3/envs/wlasl/lib/python3.10/site-packages/torch/utils/_pytree.py:185: FutureWarning: optree is installed but the version is too old to support PyTorch Dynamo in C++ pytree. C++ pytree support is disabled. Please consider upgrading optree using `python3 -m pip install --upgrade 'optree>=0.13.0'`.\n",
      "  warnings.warn(\n",
      "2025-07-18 17:54:46.729547: I tensorflow/core/util/port.cc:153] oneDNN custom operations are on. You may see slightly different numerical results due to floating-point round-off errors from different computation orders. To turn them off, set the environment variable `TF_ENABLE_ONEDNN_OPTS=0`.\n",
      "2025-07-18 17:54:46.930149: E external/local_xla/xla/stream_executor/cuda/cuda_fft.cc:485] Unable to register cuFFT factory: Attempting to register factory for plugin cuFFT when one has already been registered\n",
      "2025-07-18 17:54:47.014852: E external/local_xla/xla/stream_executor/cuda/cuda_dnn.cc:8454] Unable to register cuDNN factory: Attempting to register factory for plugin cuDNN when one has already been registered\n",
      "2025-07-18 17:54:47.042293: E external/local_xla/xla/stream_executor/cuda/cuda_blas.cc:1452] Unable to register cuBLAS factory: Attempting to register factory for plugin cuBLAS when one has already been registered\n",
      "2025-07-18 17:54:47.203475: I tensorflow/core/platform/cpu_feature_guard.cc:210] This TensorFlow binary is optimized to use available CPU instructions in performance-critical operations.\n",
      "To enable the following instructions: AVX2 AVX_VNNI FMA, in other operations, rebuild TensorFlow with the appropriate compiler flags.\n",
      "2025-07-18 17:54:48.008792: W tensorflow/compiler/tf2tensorrt/utils/py_utils.cc:38] TF-TRT Warning: Could not find TensorRT\n"
     ]
    }
   ],
   "source": [
    "import torch\n",
    "from torch.utils.data import Dataset, DataLoader\n",
    "import torchvision.transforms as transforms\n",
    "import torch.nn.functional as F\n",
    "import numpy as np\n",
    "import os\n",
    "from PIL import Image\n",
    "import torchvision.models.video as video_models\n",
    "import torch.nn as nn\n",
    "import tqdm\n",
    "import matplotlib.pyplot as plt\n",
    "from torch.utils.tensorboard import SummaryWriter\n",
    "import json\n",
    "\n",
    "from train import train_model_4\n",
    "import video_dataset as Dataset\n",
    "from test import test_model\n"
   ]
  },
  {
   "cell_type": "code",
   "execution_count": 3,
   "id": "eb02c1f5",
   "metadata": {},
   "outputs": [
    {
     "name": "stderr",
     "output_type": "stream",
     "text": [
      "/home/luke/miniconda3/envs/wlasl/lib/python3.10/site-packages/torchvision/models/_utils.py:208: UserWarning: The parameter 'pretrained' is deprecated since 0.13 and may be removed in the future, please use 'weights' instead.\n",
      "  warnings.warn(\n",
      "/home/luke/miniconda3/envs/wlasl/lib/python3.10/site-packages/torchvision/models/_utils.py:223: UserWarning: Arguments other than a weight enum or `None` for 'weights' are deprecated since 0.13 and may be removed in the future. The current behavior is equivalent to passing `weights=R3D_18_Weights.KINETICS400_V1`. You can also use `weights=R3D_18_Weights.DEFAULT` to get the most up-to-date weights.\n",
      "  warnings.warn(msg)\n"
     ]
    },
    {
     "name": "stdout",
     "output_type": "stream",
     "text": [
      "Number of training samples: 1442\n",
      "Number of validation samples: 338\n"
     ]
    }
   ],
   "source": [
    "model_3 = video_models.r3d_18(pretrained=True)\n",
    "num_classes = 100\n",
    "train_inst_path = './preprocessed/labels/asl100/train_instances_fixed_bboxes_short.json'\n",
    "val_inst_path = './preprocessed/labels/asl100/val_instances_fixed_bboxes_short.json'\n",
    "raw_path = '../data/WLASL2000'\n",
    "classes_path = './wlasl_class_list.json'\n",
    "transform3 = transforms.Compose([\n",
    "  transforms.Lambda(lambda x: Dataset.correct_num_frames(x, 16, randomise=True)),  # (T, C, H, W)\n",
    "  transforms.Lambda(lambda x: x.float() / 255.0),  # Convert\n",
    "  transforms.Lambda(lambda x: Dataset.colour_jitter(x, brightness=0.2, contrast=0.2, saturation=0.2, hue=0.1)),  # Apply colour jitter\n",
    "  transforms.Lambda(lambda x: F.interpolate(x, size=(112, 112), mode='bilinear', align_corners=False)),  # Resize after normalization\n",
    "  transforms.Lambda(lambda x: Dataset.normalise(x, mean=[0.43216, 0.394666, 0.37645], std=[0.22803, 0.22145, 0.216989])),  # Normalize per channel\n",
    "  transforms.Lambda(lambda x: x.permute(1, 0, 2, 3)),  # (T, C, H, W) -> (C, T, H, W)\n",
    "]) #This time using:\n",
    "#  random frame sampling and colour jitter\n",
    "\n",
    "train_set_3 = Dataset.VideoDataset(\n",
    "  root=raw_path,\n",
    "  instances_path=train_inst_path,\n",
    "  classes_path=classes_path,\n",
    "  transform=transform3\n",
    ")\n",
    "val_set_3 = Dataset.VideoDataset(\n",
    "  root=raw_path,\n",
    "  instances_path=val_inst_path,\n",
    "  classes_path=classes_path,\n",
    "  transform=transform3\n",
    ")\n",
    "print(f\"Number of training samples: {len(train_set_3)}\")\n",
    "print(f\"Number of validation samples: {len(val_set_3)}\")\n"
   ]
  },
  {
   "cell_type": "code",
   "execution_count": 4,
   "id": "50ecdd00",
   "metadata": {},
   "outputs": [
    {
     "name": "stdout",
     "output_type": "stream",
     "text": [
      "Train loader:\n",
      "<torch.utils.data.dataloader.DataLoader object at 0x7a5d8e4b38e0>\n",
      "Validation loader:\n",
      "<torch.utils.data.dataloader.DataLoader object at 0x7a5d8e4b3550>\n"
     ]
    }
   ],
   "source": [
    "train_loader_3 = DataLoader(\n",
    "  train_set_3,\n",
    "  batch_size=32, #I increased the temporal dimension, so batch size is lower\n",
    "  shuffle=True,\n",
    "  num_workers=2, # but can be set to 4\n",
    "  drop_last=True,\n",
    ")\n",
    "val_loader_3 = DataLoader(\n",
    "  val_set_3,\n",
    "  batch_size=32, #apparently can be mroe than train batch size\n",
    "  num_workers=2, \n",
    "  shuffle=False,\n",
    "  drop_last=False\n",
    ")\n",
    "print(f\"Train loader:\\n{train_loader_3}\")\n",
    "print(f\"Validation loader:\\n{val_loader_3}\")"
   ]
  },
  {
   "cell_type": "code",
   "execution_count": 5,
   "id": "21571e6a",
   "metadata": {},
   "outputs": [
    {
     "name": "stdout",
     "output_type": "stream",
     "text": [
      "Using device: cuda\n"
     ]
    }
   ],
   "source": [
    "device = torch.device(\"cuda\" if torch.cuda.is_available() else \"cpu\")\n",
    "print(f\"Using device: {device}\")"
   ]
  },
  {
   "cell_type": "code",
   "execution_count": 6,
   "id": "c9a9c670",
   "metadata": {},
   "outputs": [
    {
     "name": "stdout",
     "output_type": "stream",
     "text": [
      "Training parameter: stem.0.weight\n",
      "Training parameter: stem.1.weight\n",
      "Training parameter: stem.1.bias\n",
      "Training parameter: layer1.0.conv1.0.weight\n",
      "Training parameter: layer1.0.conv1.1.weight\n",
      "Training parameter: layer1.0.conv1.1.bias\n",
      "Training parameter: layer1.0.conv2.0.weight\n",
      "Training parameter: layer1.0.conv2.1.weight\n",
      "Training parameter: layer1.0.conv2.1.bias\n",
      "Training parameter: layer1.1.conv1.0.weight\n",
      "Training parameter: layer1.1.conv1.1.weight\n",
      "Training parameter: layer1.1.conv1.1.bias\n",
      "Training parameter: layer1.1.conv2.0.weight\n",
      "Training parameter: layer1.1.conv2.1.weight\n",
      "Training parameter: layer1.1.conv2.1.bias\n",
      "Training parameter: layer2.0.conv1.0.weight\n",
      "Training parameter: layer2.0.conv1.1.weight\n",
      "Training parameter: layer2.0.conv1.1.bias\n",
      "Training parameter: layer2.0.conv2.0.weight\n",
      "Training parameter: layer2.0.conv2.1.weight\n",
      "Training parameter: layer2.0.conv2.1.bias\n",
      "Training parameter: layer2.0.downsample.0.weight\n",
      "Training parameter: layer2.0.downsample.1.weight\n",
      "Training parameter: layer2.0.downsample.1.bias\n",
      "Training parameter: layer2.1.conv1.0.weight\n",
      "Training parameter: layer2.1.conv1.1.weight\n",
      "Training parameter: layer2.1.conv1.1.bias\n",
      "Training parameter: layer2.1.conv2.0.weight\n",
      "Training parameter: layer2.1.conv2.1.weight\n",
      "Training parameter: layer2.1.conv2.1.bias\n",
      "Training parameter: layer3.0.conv1.0.weight\n",
      "Training parameter: layer3.0.conv1.1.weight\n",
      "Training parameter: layer3.0.conv1.1.bias\n",
      "Training parameter: layer3.0.conv2.0.weight\n",
      "Training parameter: layer3.0.conv2.1.weight\n",
      "Training parameter: layer3.0.conv2.1.bias\n",
      "Training parameter: layer3.0.downsample.0.weight\n",
      "Training parameter: layer3.0.downsample.1.weight\n",
      "Training parameter: layer3.0.downsample.1.bias\n",
      "Training parameter: layer3.1.conv1.0.weight\n",
      "Training parameter: layer3.1.conv1.1.weight\n",
      "Training parameter: layer3.1.conv1.1.bias\n",
      "Training parameter: layer3.1.conv2.0.weight\n",
      "Training parameter: layer3.1.conv2.1.weight\n",
      "Training parameter: layer3.1.conv2.1.bias\n",
      "Training parameter: layer4.0.conv1.0.weight\n",
      "Training parameter: layer4.0.conv1.1.weight\n",
      "Training parameter: layer4.0.conv1.1.bias\n",
      "Training parameter: layer4.0.conv2.0.weight\n",
      "Training parameter: layer4.0.conv2.1.weight\n",
      "Training parameter: layer4.0.conv2.1.bias\n",
      "Training parameter: layer4.0.downsample.0.weight\n",
      "Training parameter: layer4.0.downsample.1.weight\n",
      "Training parameter: layer4.0.downsample.1.bias\n",
      "Training parameter: layer4.1.conv1.0.weight\n",
      "Training parameter: layer4.1.conv1.1.weight\n",
      "Training parameter: layer4.1.conv1.1.bias\n",
      "Training parameter: layer4.1.conv2.0.weight\n",
      "Training parameter: layer4.1.conv2.1.weight\n",
      "Training parameter: layer4.1.conv2.1.bias\n",
      "Training parameter: fc.1.weight\n",
      "Training parameter: fc.1.bias\n",
      "Set stem.1 to eval mode (frozen layer)\n",
      "Set layer1.0.conv1.1 to eval mode (frozen layer)\n",
      "Set layer1.0.conv2.1 to eval mode (frozen layer)\n",
      "Set layer1.1.conv1.1 to eval mode (frozen layer)\n",
      "Set layer1.1.conv2.1 to eval mode (frozen layer)\n",
      "Set layer2.0.conv1.1 to eval mode (frozen layer)\n",
      "Set layer2.0.conv2.1 to eval mode (frozen layer)\n",
      "Set layer2.0.downsample.1 to eval mode (frozen layer)\n",
      "Set layer2.1.conv1.1 to eval mode (frozen layer)\n",
      "Set layer2.1.conv2.1 to eval mode (frozen layer)\n",
      "Set layer3.0.conv1.1 to eval mode (frozen layer)\n",
      "Set layer3.0.conv2.1 to eval mode (frozen layer)\n",
      "Set layer3.0.downsample.1 to eval mode (frozen layer)\n",
      "Set layer3.1.conv1.1 to eval mode (frozen layer)\n",
      "Set layer3.1.conv2.1 to eval mode (frozen layer)\n"
     ]
    }
   ],
   "source": [
    "model_3.fc = nn.Sequential(\n",
    "  nn.Dropout(p=0.5), #add dropout for regularization\n",
    "  nn.Linear(model_3.fc.in_features, num_classes)  \n",
    ")\n",
    "model_3 = model_3.to(device)\n",
    "\n",
    "for param in model_3.parameters():\n",
    "  param.requires_grad = True\n",
    "  \n",
    "for layer_name in ['layer4', 'fc']:\n",
    "  if hasattr(model_3, layer_name):\n",
    "    for param in getattr(model_3, layer_name).parameters():\n",
    "      param.requires_grad = True\n",
    "      \n",
    "for name, param in model_3.named_parameters():\n",
    "  if param.requires_grad:\n",
    "    print(f\"Training parameter: {name}\")\n",
    "  else:\n",
    "    print(f\"Freezing parameter: {name}\")\n",
    "    \n",
    "for name, module in model_3.named_modules():\n",
    "  if isinstance(module, (nn.BatchNorm1d, nn.BatchNorm2d, nn.BatchNorm3d)):\n",
    "    # Check if this BatchNorm is in a frozen layer\n",
    "    is_in_frozen_layer = not any(unfreeze_layer in name for unfreeze_layer in ['layer4', 'fc'])\n",
    "    \n",
    "    if is_in_frozen_layer:\n",
    "      module.eval()\n",
    "      module.track_running_stats = False\n",
    "      print(f\"Set {name} to eval mode (frozen layer)\")"
   ]
  },
  {
   "cell_type": "code",
   "execution_count": 7,
   "id": "2f1c6b4b",
   "metadata": {},
   "outputs": [
    {
     "name": "stderr",
     "output_type": "stream",
     "text": [
      "/home/luke/miniconda3/envs/wlasl/lib/python3.10/site-packages/torch/optim/lr_scheduler.py:62: UserWarning: The verbose parameter is deprecated. Please use get_last_lr() to access the learning rate.\n",
      "  warnings.warn(\n"
     ]
    }
   ],
   "source": [
    "trainable_params_3 = [p for p in model_3.parameters() if p.requires_grad]\n",
    "optimizer_3 = torch.optim.Adam(\n",
    "  trainable_params_3,\n",
    "  lr=1e-3,\n",
    "  weight_decay=1e-4)\n",
    "schedular_3 = torch.optim.lr_scheduler.ReduceLROnPlateau(\n",
    "  optimizer_3,\n",
    "  mode='min',\n",
    "  factor=0.5,\n",
    "  patience=5,\n",
    "  verbose=True\n",
    ")\n",
    "  \n",
    "# Adjust learning rate as needed\n",
    "loss_func = nn.CrossEntropyLoss()\n",
    "# train_losses_3, val_losses_3 = train_model_4(\n",
    "#   model=model_3,\n",
    "#   train_loader=train_loader_3,\n",
    "#   optimizer=optimizer_3,\n",
    "#   loss_func=loss_func,\n",
    "#   epochs=30,\n",
    "#   val_loader=val_loader_3,\n",
    "#   schedular=schedular_3,\n",
    "#   output='runs/r3d18_exp3'\n",
    "# )\n",
    "\n",
    "#this completed but I accidentally ran the cell again"
   ]
  },
  {
   "cell_type": "markdown",
   "id": "4df3081d",
   "metadata": {},
   "source": [
    "### The model can probably go a bit further"
   ]
  },
  {
   "cell_type": "code",
   "execution_count": null,
   "id": "d234b3a4",
   "metadata": {},
   "outputs": [],
   "source": [
    "train_losses_3, val_losses_3 = train_model_4(\n",
    "  model=model_3,\n",
    "  train_loader=train_loader_3,\n",
    "  optimizer=optimizer_3,\n",
    "  loss_func=loss_func,\n",
    "  epochs=100,\n",
    "  val_loader=val_loader_3,\n",
    "  schedular=schedular_3,\n",
    "  output='runs/r3d18_exp3',\n",
    "  load='runs/r3d18_exp3/checkpoints/checkpoint_74.pth'  # Load the model from the checkpoint\n",
    ")"
   ]
  },
  {
   "cell_type": "markdown",
   "id": "05d46488",
   "metadata": {},
   "source": [
    "### Expriment 2 is still the winner, and by far the fastest. This experiment performed worse and took longer"
   ]
  },
  {
   "cell_type": "code",
   "execution_count": 1,
   "id": "56e9af5d",
   "metadata": {},
   "outputs": [
    {
     "name": "stderr",
     "output_type": "stream",
     "text": [
      "/home/luke/miniconda3/envs/wlasl/lib/python3.10/site-packages/torch/utils/_pytree.py:185: FutureWarning: optree is installed but the version is too old to support PyTorch Dynamo in C++ pytree. C++ pytree support is disabled. Please consider upgrading optree using `python3 -m pip install --upgrade 'optree>=0.13.0'`.\n",
      "  warnings.warn(\n"
     ]
    },
    {
     "name": "stdout",
     "output_type": "stream",
     "text": [
      "Plot saved to: runs/r3d18_exp3/logs/r3d18_exp3_losses.png\n"
     ]
    },
    {
     "data": {
      "image/png": "[encoded data removed]",
      "text/plain": [
       "<Figure size 1000x600 with 1 Axes>"
      ]
     },
     "metadata": {},
     "output_type": "display_data"
    },
    {
     "name": "stdout",
     "output_type": "stream",
     "text": [
      "Saved plot to runs/r3d18_exp3/logs/r3d18_exp3_losses.png\n"
     ]
    },
    {
     "data": {
      "text/plain": [
       "<Figure size 640x480 with 0 Axes>"
      ]
     },
     "metadata": {},
     "output_type": "display_data"
    }
   ],
   "source": [
    "from utils import plot_from_simple_list, load_tensorboard_json\n",
    "import json\n",
    "\n",
    "train_losses_3 = load_tensorboard_json('runs/r3d18_exp3/logs/r3d18_exp3_train_loss.json')\n",
    "val_losses_3 = load_tensorboard_json('runs/r3d18_exp3/logs/r3d18_exp3_val_loss.json')\n",
    "\n",
    "plot_from_simple_list(\n",
    "    train_losses_3,\n",
    "    val_losses_3,\n",
    "    title='R3D-18 Experiment 3 Losses',\n",
    "    save_path='runs/r3d18_exp3/logs/r3d18_exp3_losses.png'\n",
    ")\n",
    "    "
   ]
  },
  {
   "cell_type": "code",
   "execution_count": 2,
   "id": "6dc70325",
   "metadata": {},
   "outputs": [
    {
     "name": "stdout",
     "output_type": "stream",
     "text": [
      "Plot saved to: runs/r3d18_exp3/logs/r3d18_exp3_val_loss_logscale.png\n"
     ]
    },
    {
     "data": {
      "image/png": "[encoded data removed]",
      "text/plain": [
       "<Figure size 1000x600 with 1 Axes>"
      ]
     },
     "metadata": {},
     "output_type": "display_data"
    },
    {
     "name": "stdout",
     "output_type": "stream",
     "text": [
      "Saved plot to runs/r3d18_exp3/logs/r3d18_exp3_val_loss_logscale.png\n"
     ]
    },
    {
     "data": {
      "text/plain": [
       "<Figure size 640x480 with 0 Axes>"
      ]
     },
     "metadata": {},
     "output_type": "display_data"
    }
   ],
   "source": [
    "val_losses_3_logscale = load_tensorboard_json('runs/r3d18_exp3/logs/r3d18_exp3_val_loss_logscale.json')\n",
    "plot_from_simple_list(\n",
    "  val_losses_3_logscale,\n",
    "  title='R3D-18 Experiment 3 Validation Loss (Log Scale)',\n",
    "  xlabel='Step',\n",
    "  ylabel='Validation Loss (Log Scale)',\n",
    "  save_path='runs/r3d18_exp3/logs/r3d18_exp3_val_loss_logscale.png'\n",
    ")"
   ]
  },
  {
   "cell_type": "markdown",
   "id": "62514506",
   "metadata": {},
   "source": [
    "### This data is better seen in tensorboard, but the validation accuracy on this experiment was ridiculous. not sure what caused it"
   ]
  }
 ],
 "metadata": {
  "kernelspec": {
   "display_name": "wlasl",
   "language": "python",
   "name": "python3"
  },
  "language_info": {
   "codemirror_mode": {
    "name": "ipython",
    "version": 3
   },
   "file_extension": ".py",
   "mimetype": "text/x-python",
   "name": "python",
   "nbconvert_exporter": "python",
   "pygments_lexer": "ipython3",
   "version": "3.10.18"
  }
 },
 "nbformat": 4,
 "nbformat_minor": 5
}
