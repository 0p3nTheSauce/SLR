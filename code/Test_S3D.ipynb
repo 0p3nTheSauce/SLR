{
 "cells": [
  {
   "cell_type": "markdown",
   "id": "4fd2a1e3",
   "metadata": {},
   "source": [
    "### Testing one of the old runs from queRuns"
   ]
  },
  {
   "cell_type": "code",
   "execution_count": null,
   "id": "152b2f04",
   "metadata": {},
   "outputs": [],
   "source": [
    "import json\n",
    "import test\n",
    "#locals\n",
    "import configs\n",
    "import utils"
   ]
  },
  {
   "cell_type": "code",
   "execution_count": null,
   "id": "0c3b6932",
   "metadata": {},
   "outputs": [],
   "source": [
    "with open(\"queRuns.json\", \"r\") as f:\n",
    "    all_runs = json.load(f)\n",
    "old_runs = all_runs[\"old_runs\"]\n",
    "last_old = old_runs[-1]\n"
   ]
  }
 ],
 "metadata": {
  "kernelspec": {
   "display_name": "wlasl",
   "language": "python",
   "name": "python3"
  },
  "language_info": {
   "codemirror_mode": {
    "name": "ipython",
    "version": 3
   },
   "file_extension": ".py",
   "mimetype": "text/x-python",
   "name": "python",
   "nbconvert_exporter": "python",
   "pygments_lexer": "ipython3",
   "version": "3.10.18"
  }
 },
 "nbformat": 4,
 "nbformat_minor": 5
}
