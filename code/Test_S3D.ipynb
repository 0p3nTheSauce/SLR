{
 "cells": [
  {
   "cell_type": "markdown",
   "id": "4fd2a1e3",
   "metadata": {},
   "source": [
    "### Testing one of the old runs from queRuns"
   ]
  },
  {
   "cell_type": "code",
   "execution_count": 1,
   "id": "152b2f04",
   "metadata": {},
   "outputs": [
    {
     "name": "stderr",
     "output_type": "stream",
     "text": [
      "/home/luke/miniconda3/envs/wlasl/lib/python3.10/site-packages/pydantic/_internal/_generate_schema.py:2249: UnsupportedFieldAttributeWarning: The 'repr' attribute with value False was provided to the `Field()` function, which has no effect in the context it was used. 'repr' is field-specific metadata, and can only be attached to a model field using `Annotated` metadata or by assignment. This may have happened because an `Annotated` type alias using the `type` statement was used, or if the `Field()` function was attached to a single member of a union type.\n",
      "  warnings.warn(\n",
      "/home/luke/miniconda3/envs/wlasl/lib/python3.10/site-packages/pydantic/_internal/_generate_schema.py:2249: UnsupportedFieldAttributeWarning: The 'frozen' attribute with value True was provided to the `Field()` function, which has no effect in the context it was used. 'frozen' is field-specific metadata, and can only be attached to a model field using `Annotated` metadata or by assignment. This may have happened because an `Annotated` type alias using the `type` statement was used, or if the `Field()` function was attached to a single member of a union type.\n",
      "  warnings.warn(\n"
     ]
    }
   ],
   "source": [
    "import json\n",
    "import testing\n",
    "#locals\n",
    "import configs\n",
    "import utils"
   ]
  },
  {
   "cell_type": "code",
   "execution_count": null,
   "id": "0c3b6932",
   "metadata": {},
   "outputs": [],
   "source": [
    "def find_best_checkpnt():\n",
    "    with open(\"queRuns.json\", \"r\") as f:\n",
    "        all_runs = json.load(f)\n",
    "\n",
    "    old_runs = all_runs['old_runs']\n",
    "    for run in old_runs[:1]:\n",
    "        utils.print_dict(run['admin'])\n",
    "        res = testing.test_run(\n",
    "            config = run,\n",
    "            save=False,\n",
    "            disp=True,\n",
    "            test_val=True,\n",
    "            test_test=True,\n",
    "        )\n",
    "        utils.print_dict(res)\n",
    "        print(\"\\n\\n\")"
   ]
  },
  {
   "cell_type": "code",
   "execution_count": 3,
   "id": "4d04111c",
   "metadata": {},
   "outputs": [
    {
     "name": "stdout",
     "output_type": "stream",
     "text": [
      "{\n",
      "model : S3D\n",
      "split : asl100\n",
      "exp_no : 021\n",
      "recover : False\n",
      "config_path : ./configfiles/generic/hframe_hwd_leps5.ini\n",
      "root : ../data/WLASL/WLASL2000\n",
      "labels : preprocessed/labels/asl100\n",
      "save_path : runs/asl100/S3D_exp021/checkpoints\n",
      "}\n",
      "\n",
      "Loading weights from: runs/asl100/S3D_exp021/checkpoints/best.pth\n",
      "Testing on test set\n",
      "Saving to: runs/asl100/S3D_exp021/results/best_test-top-k.json\n"
     ]
    },
    {
     "name": "stderr",
     "output_type": "stream",
     "text": [
      "/home/luke/Code/SLR/code/testing.py:420: FutureWarning: You are using `torch.load` with `weights_only=False` (the current default value), which uses the default pickle module implicitly. It is possible to construct malicious pickle data which will execute arbitrary code during unpickling (See https://github.com/pytorch/pytorch/blob/main/SECURITY.md#untrusted-models for more details). In a future release, the default value for `weights_only` will be flipped to `True`. This limits the functions that could be executed during unpickling. Arbitrary objects will no longer be allowed to be loaded via this mode unless they are explicitly allowlisted by the user via `torch.serialization.add_safe_globals`. We recommend you start setting `weights_only=True` for any use case where you don't have full control of the loaded file. Please open an issue on GitHub for any issues related to this experimental feature.\n",
      "  checkpoint = torch.load(check_path)\n",
      "Testing: 100%|██████████| 258/258 [00:07<00:00, 34.61it/s]\n"
     ]
    },
    {
     "name": "stdout",
     "output_type": "stream",
     "text": [
      "top-k average per class acc: 0.5188333333333333, 0.8058333333333333, 0.8891666666666665\n",
      "top-k per instance acc: 0.5271317829457365, 0.810077519379845, 0.8875968992248062\n",
      "Testing on val set\n",
      "Saving to: runs/asl100/S3D_exp021/results/best_val-top-k.json\n"
     ]
    },
    {
     "name": "stderr",
     "output_type": "stream",
     "text": [
      "Testing: 100%|██████████| 338/338 [00:09<00:00, 35.05it/s]\n",
      "/home/luke/Code/SLR/code/testing.py:420: FutureWarning: You are using `torch.load` with `weights_only=False` (the current default value), which uses the default pickle module implicitly. It is possible to construct malicious pickle data which will execute arbitrary code during unpickling (See https://github.com/pytorch/pytorch/blob/main/SECURITY.md#untrusted-models for more details). In a future release, the default value for `weights_only` will be flipped to `True`. This limits the functions that could be executed during unpickling. Arbitrary objects will no longer be allowed to be loaded via this mode unless they are explicitly allowlisted by the user via `torch.serialization.add_safe_globals`. We recommend you start setting `weights_only=True` for any use case where you don't have full control of the loaded file. Please open an issue on GitHub for any issues related to this experimental feature.\n",
      "  checkpoint = torch.load(check_path)\n"
     ]
    },
    {
     "name": "stdout",
     "output_type": "stream",
     "text": [
      "top-k average per class acc: 0.5401666666666666, 0.8425, 0.9075\n",
      "top-k per instance acc: 0.5384615384615384, 0.8402366863905325, 0.908284023668639\n",
      "{\n",
      "test : {\n",
      "top_k_average_per_class_acc : {\n",
      "top1 : 0.5188333333333333\n",
      "top5 : 0.8058333333333333\n",
      "top10 : 0.8891666666666665\n",
      "}\n",
      "\n",
      "top_k_per_instance_acc : {\n",
      "top1 : 0.5271317829457365\n",
      "top5 : 0.810077519379845\n",
      "top10 : 0.8875968992248062\n",
      "}\n",
      "\n",
      "}\n",
      "\n",
      "val : {\n",
      "top_k_average_per_class_acc : {\n",
      "top1 : 0.5401666666666666\n",
      "top5 : 0.8425\n",
      "top10 : 0.9075\n",
      "}\n",
      "\n",
      "top_k_per_instance_acc : {\n",
      "top1 : 0.5384615384615384\n",
      "top5 : 0.8402366863905325\n",
      "top10 : 0.908284023668639\n",
      "}\n",
      "\n",
      "}\n",
      "\n",
      "}\n",
      "\n",
      "\n",
      "\n",
      "\n",
      "{\n",
      "model : S3D\n",
      "split : asl100\n",
      "exp_no : 020\n",
      "recover : False\n",
      "config_path : ./configfiles/generic/hframe_hwd_leps4.ini\n",
      "root : ../data/WLASL/WLASL2000\n",
      "labels : preprocessed/labels/asl100\n",
      "save_path : runs/asl100/S3D_exp020/checkpoints\n",
      "}\n",
      "\n",
      "Loading weights from: runs/asl100/S3D_exp020/checkpoints/best.pth\n",
      "Testing on test set\n",
      "Saving to: runs/asl100/S3D_exp020/results/best_test-top-k.json\n"
     ]
    },
    {
     "name": "stderr",
     "output_type": "stream",
     "text": [
      "Testing: 100%|██████████| 258/258 [00:07<00:00, 35.14it/s]\n"
     ]
    },
    {
     "name": "stdout",
     "output_type": "stream",
     "text": [
      "top-k average per class acc: 0.5331666666666667, 0.8083333333333335, 0.875\n",
      "top-k per instance acc: 0.5271317829457365, 0.8062015503875969, 0.872093023255814\n",
      "Testing on val set\n",
      "Saving to: runs/asl100/S3D_exp020/results/best_val-top-k.json\n"
     ]
    },
    {
     "name": "stderr",
     "output_type": "stream",
     "text": [
      "Testing: 100%|██████████| 338/338 [00:09<00:00, 35.28it/s]"
     ]
    },
    {
     "name": "stdout",
     "output_type": "stream",
     "text": [
      "top-k average per class acc: 0.616, 0.8525000000000001, 0.9191666666666666\n",
      "top-k per instance acc: 0.606508875739645, 0.8520710059171598, 0.9171597633136095\n",
      "{\n",
      "test : {\n",
      "top_k_average_per_class_acc : {\n",
      "top1 : 0.5331666666666667\n",
      "top5 : 0.8083333333333335\n",
      "top10 : 0.875\n",
      "}\n",
      "\n",
      "top_k_per_instance_acc : {\n",
      "top1 : 0.5271317829457365\n",
      "top5 : 0.8062015503875969\n",
      "top10 : 0.872093023255814\n",
      "}\n",
      "\n",
      "}\n",
      "\n",
      "val : {\n",
      "top_k_average_per_class_acc : {\n",
      "top1 : 0.616\n",
      "top5 : 0.8525000000000001\n",
      "top10 : 0.9191666666666666\n",
      "}\n",
      "\n",
      "top_k_per_instance_acc : {\n",
      "top1 : 0.606508875739645\n",
      "top5 : 0.8520710059171598\n",
      "top10 : 0.9171597633136095\n",
      "}\n",
      "\n",
      "}\n",
      "\n",
      "}\n",
      "\n",
      "\n",
      "\n",
      "\n"
     ]
    },
    {
     "name": "stderr",
     "output_type": "stream",
     "text": [
      "\n"
     ]
    }
   ],
   "source": [
    "find_best_checkpnt()"
   ]
  },
  {
   "cell_type": "code",
   "execution_count": null,
   "id": "8c6ed7b5",
   "metadata": {},
   "outputs": [],
   "source": []
  }
 ],
 "metadata": {
  "kernelspec": {
   "display_name": "wlasl",
   "language": "python",
   "name": "python3"
  },
  "language_info": {
   "codemirror_mode": {
    "name": "ipython",
    "version": 3
   },
   "file_extension": ".py",
   "mimetype": "text/x-python",
   "name": "python",
   "nbconvert_exporter": "python",
   "pygments_lexer": "ipython3",
   "version": "3.10.18"
  }
 },
 "nbformat": 4,
 "nbformat_minor": 5
}
