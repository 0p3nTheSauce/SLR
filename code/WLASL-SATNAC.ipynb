{
 "cells": [
  {
   "cell_type": "markdown",
   "id": "cd72b609",
   "metadata": {},
   "source": [
    "# Comparing 3D CNN, and Vision Transformer feature extractors for Isolated Sign Language Recognition"
   ]
  },
  {
   "cell_type": "code",
   "execution_count": 1,
   "id": "2b26d5b5",
   "metadata": {},
   "outputs": [],
   "source": [
    "from test import set_seed\n",
    "import json"
   ]
  },
  {
   "cell_type": "code",
   "execution_count": 2,
   "id": "de70dee6",
   "metadata": {},
   "outputs": [],
   "source": [
    "set_seed()\n",
    "imp_path = 'wlasl_implemented_info.json'\n",
    "runs_path = 'runs'\n",
    "classes_path = 'wlasl_class_list.json'\n",
    "root_path = '../data/WLASL/WLASL2000'\n"
   ]
  },
  {
   "cell_type": "code",
   "execution_count": 3,
   "id": "f4133e14",
   "metadata": {},
   "outputs": [],
   "source": [
    "import test_claude"
   ]
  },
  {
   "cell_type": "code",
   "execution_count": null,
   "id": "c67f2e28",
   "metadata": {},
   "outputs": [
    {
     "ename": "FileNotFoundError",
     "evalue": "[Errno 2] No such file or directory: 'results.json'",
     "output_type": "error",
     "traceback": [
      "\u001b[0;31m---------------------------------------------------------------------------\u001b[0m",
      "\u001b[0;31mFileNotFoundError\u001b[0m                         Traceback (most recent call last)",
      "Cell \u001b[0;32mIn[4], line 1\u001b[0m\n\u001b[0;32m----> 1\u001b[0m df, results \u001b[38;5;241m=\u001b[39m \u001b[43mtest_claude\u001b[49m\u001b[38;5;241;43m.\u001b[39;49m\u001b[43mrun_visualizations\u001b[49m\u001b[43m(\u001b[49m\u001b[38;5;124;43m'\u001b[39;49m\u001b[38;5;124;43mresults.json\u001b[39;49m\u001b[38;5;124;43m'\u001b[39;49m\u001b[43m)\u001b[49m\n",
      "File \u001b[0;32m~/ExtraStorage/SLR/code/test_claude.py:278\u001b[0m, in \u001b[0;36mrun_visualizations\u001b[0;34m(filepath)\u001b[0m\n\u001b[1;32m    276\u001b[0m \u001b[38;5;250m\u001b[39m\u001b[38;5;124;03m\"\"\"Run all visualizations.\"\"\"\u001b[39;00m\n\u001b[1;32m    277\u001b[0m \u001b[38;5;66;03m# Load results\u001b[39;00m\n\u001b[0;32m--> 278\u001b[0m results \u001b[38;5;241m=\u001b[39m \u001b[43mload_results\u001b[49m\u001b[43m(\u001b[49m\u001b[43mfilepath\u001b[49m\u001b[43m)\u001b[49m\n\u001b[1;32m    280\u001b[0m \u001b[38;5;66;03m# Extract to DataFrame\u001b[39;00m\n\u001b[1;32m    281\u001b[0m df \u001b[38;5;241m=\u001b[39m extract_metrics_df(results)\n",
      "File \u001b[0;32m~/ExtraStorage/SLR/code/test_claude.py:14\u001b[0m, in \u001b[0;36mload_results\u001b[0;34m(filepath)\u001b[0m\n\u001b[1;32m     12\u001b[0m \u001b[38;5;28;01mdef\u001b[39;00m\u001b[38;5;250m \u001b[39m\u001b[38;5;21mload_results\u001b[39m(filepath: \u001b[38;5;28mstr\u001b[39m) \u001b[38;5;241m-\u001b[39m\u001b[38;5;241m>\u001b[39m Dict:\n\u001b[1;32m     13\u001b[0m \u001b[38;5;250m    \u001b[39m\u001b[38;5;124;03m\"\"\"Load results from JSON file.\"\"\"\u001b[39;00m\n\u001b[0;32m---> 14\u001b[0m     \u001b[38;5;28;01mwith\u001b[39;00m \u001b[38;5;28;43mopen\u001b[39;49m\u001b[43m(\u001b[49m\u001b[43mfilepath\u001b[49m\u001b[43m,\u001b[49m\u001b[43m \u001b[49m\u001b[38;5;124;43m'\u001b[39;49m\u001b[38;5;124;43mr\u001b[39;49m\u001b[38;5;124;43m'\u001b[39;49m\u001b[43m)\u001b[49m \u001b[38;5;28;01mas\u001b[39;00m f:\n\u001b[1;32m     15\u001b[0m         \u001b[38;5;28;01mreturn\u001b[39;00m json\u001b[38;5;241m.\u001b[39mload(f)\n",
      "\u001b[0;31mFileNotFoundError\u001b[0m: [Errno 2] No such file or directory: 'results.json'"
     ]
    }
   ],
   "source": [
    "df, results = test_claude.run_visualizations('wlasl_runs_summary.json')"
   ]
  },
  {
   "cell_type": "code",
   "execution_count": null,
   "id": "d4592869",
   "metadata": {},
   "outputs": [],
   "source": [
    "latex_table = test_claude.generate_latex_table(\n",
    "    results, \n",
    "    dataset='asl100', \n",
    "    split='test',\n",
    "    metric_type='avg',  # or 'inst' or 'both'\n",
    "    caption='Your Caption',\n",
    "    label='tab:your_label'\n",
    ")\n",
    "print(latex_table)"
   ]
  }
 ],
 "metadata": {
  "kernelspec": {
   "display_name": "wlasl",
   "language": "python",
   "name": "python3"
  },
  "language_info": {
   "codemirror_mode": {
    "name": "ipython",
    "version": 3
   },
   "file_extension": ".py",
   "mimetype": "text/x-python",
   "name": "python",
   "nbconvert_exporter": "python",
   "pygments_lexer": "ipython3",
   "version": "3.10.18"
  }
 },
 "nbformat": 4,
 "nbformat_minor": 5
}
