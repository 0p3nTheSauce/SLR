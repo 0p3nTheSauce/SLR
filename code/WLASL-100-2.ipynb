{
 "cells": [
  {
   "cell_type": "markdown",
   "id": "cd72b609",
   "metadata": {},
   "source": [
    "# Comparing 3D CNN, and Vision Transformer feature extractors for Isolated Sign Language Recognition"
   ]
  },
  {
   "cell_type": "code",
   "execution_count": 1,
   "id": "2b26d5b5",
   "metadata": {},
   "outputs": [],
   "source": [
    "from test import set_seed, test_all, create_runs_dict\n",
    "import json"
   ]
  },
  {
   "cell_type": "code",
   "execution_count": 2,
   "id": "de70dee6",
   "metadata": {},
   "outputs": [],
   "source": [
    "set_seed()\n",
    "imp_path = 'wlasl_implemented_info.json'\n",
    "runs_path = 'runs'"
   ]
  },
  {
   "cell_type": "code",
   "execution_count": 3,
   "id": "c67f2e28",
   "metadata": {},
   "outputs": [],
   "source": [
    "runs_dict = create_runs_dict(imp_path, runs_path)\n",
    "with open('wlasl_runs_done.json', 'w') as f:\n",
    "  json.dump(runs_dict, f, indent=2)"
   ]
  },
  {
   "cell_type": "code",
   "execution_count": null,
   "id": "d4592869",
   "metadata": {},
   "outputs": [],
   "source": [
    "classes_path = 'wlasl_class_list.json'\n",
    "root_path = '../data/WLASL/WLASL2000'\n",
    "test_all(\n",
    "  runs_dict=runs_dict,\n",
    "  imp_path=imp_path,\n",
    "  classes_path=classes_path,\n",
    "  root_path=root_path,\n",
    "  test_last=True,\n",
    "  top_k=True,\n",
    "  plot=True\n",
    ")"
   ]
  }
 ],
 "metadata": {
  "kernelspec": {
   "display_name": "wlasl",
   "language": "python",
   "name": "python3"
  },
  "language_info": {
   "codemirror_mode": {
    "name": "ipython",
    "version": 3
   },
   "file_extension": ".py",
   "mimetype": "text/x-python",
   "name": "python",
   "nbconvert_exporter": "python",
   "pygments_lexer": "ipython3",
   "version": "3.10.18"
  }
 },
 "nbformat": 4,
 "nbformat_minor": 5
}
