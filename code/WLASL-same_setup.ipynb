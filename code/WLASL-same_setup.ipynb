{
 "cells": [
  {
   "cell_type": "markdown",
   "id": "e017a9d2",
   "metadata": {},
   "source": [
    "# Comparing 3D CNN, and Vision Transformer feature extractors for Isolated Sign Language Recognition"
   ]
  },
  {
   "cell_type": "code",
   "execution_count": 1,
   "id": "061ac690",
   "metadata": {},
   "outputs": [],
   "source": [
    "import torch\n",
    "import test\n",
    "import configs\n",
    "from torchvision.transforms import v2\n",
    "from video_dataset import VideoDataset\n",
    "from pathlib import Path\n",
    "from torch.utils.data import DataLoader\n",
    "from models import pytorch_mvit, pytorch_r3d, pytorch_s3d, pytorch_swin3d\n",
    "import json\n",
    "import utils\n",
    "import torch\n",
    "import gc\n",
    "import torch.nn.functional as F\n",
    "import numpy as np\n",
    "import random\n",
    "\n",
    "def set_seed(seed=42):\n",
    "  torch.manual_seed(seed)\n",
    "  torch.cuda.manual_seed_all(seed)\n",
    "  np.random.seed(seed)\n",
    "  random.seed(seed)\n",
    "  torch.backends.cudnn.deterministic = True\n",
    "  torch.backends.cudnn.benchmark = False\n",
    "  \n",
    "set_seed()\n",
    "\n",
    "with open('wlasl_implemented_info.json', 'r') as f:\n",
    "  imp_info = json.load(f)\n"
   ]
  },
  {
   "cell_type": "code",
   "execution_count": 2,
   "id": "fac83f4a",
   "metadata": {},
   "outputs": [
    {
     "name": "stdout",
     "output_type": "stream",
     "text": [
      "['asl100', 'asl300']\n",
      "dict_keys(['MViT_V1_B', 'MViT_V2_S', 'Swin3D_B', 'Swin3D_S', 'Swin3D_T', 'Resnet2D_1D_18', 'Resnet3D_18', 'S3D'])\n"
     ]
    }
   ],
   "source": [
    "print(imp_info['splits'])\n",
    "print(imp_info['models'].keys())\n",
    "model_info = imp_info['models']"
   ]
  },
  {
   "cell_type": "code",
   "execution_count": 3,
   "id": "aec76f88",
   "metadata": {},
   "outputs": [],
   "source": [
    "split = 'asl100'\n",
    "root = Path('../data/WLASL/WLASL2000')\n",
    "labels = Path(f'./preprocessed/labels/{split}')"
   ]
  },
  {
   "cell_type": "markdown",
   "id": "4d6112d9",
   "metadata": {},
   "source": [
    "## Main results"
   ]
  },
  {
   "cell_type": "markdown",
   "id": "8bb6ccdc",
   "metadata": {},
   "source": [
    "### load testing dictionary"
   ]
  },
  {
   "cell_type": "code",
   "execution_count": 4,
   "id": "225f07d3",
   "metadata": {},
   "outputs": [
    {
     "name": "stdout",
     "output_type": "stream",
     "text": [
      "{\n",
      "asl100 : {\n",
      "Resnet3D_18 : ['004', '005']\n",
      "Resnet2D_1D_18 : ['004', '006']\n",
      "S3D : ['010', '012']\n",
      "MViT_V1_B : ['000']\n",
      "MViT_V2_S : ['004']\n",
      "Swin3D_B : ['002']\n",
      "Swin3D_S : ['002']\n",
      "Swin3D_T : ['002']\n",
      "}\n",
      "\n",
      "}\n",
      "\n"
     ]
    }
   ],
   "source": [
    "with open('results/wlasl_runs_to_test.json', 'r') as f:\n",
    "    to_test = json.load(f)\n",
    "\n",
    "utils.print_dict(to_test)"
   ]
  },
  {
   "cell_type": "markdown",
   "id": "7b8628f8",
   "metadata": {},
   "source": [
    "### test experiments"
   ]
  },
  {
   "cell_type": "code",
   "execution_count": null,
   "id": "9761cf45",
   "metadata": {},
   "outputs": [],
   "source": [
    "output = Path('results/')\n",
    "test.test_all(\n",
    "    runs_dict = to_test,\n",
    "    test_last = True, #verify that best weights are working\n",
    "    plot = True, \n",
    "    disp = True, #lets see some graphs\n",
    "    res_output = output / 'wlasl_same_setup.json',\n",
    "    skip_done = False, #rerun all the tests the first time \n",
    "    err_output = output / 'wlasl_same_setup_errors.json'\n",
    ")"
   ]
  }
 ],
 "metadata": {
  "kernelspec": {
   "display_name": "wlasl",
   "language": "python",
   "name": "python3"
  },
  "language_info": {
   "codemirror_mode": {
    "name": "ipython",
    "version": 3
   },
   "file_extension": ".py",
   "mimetype": "text/x-python",
   "name": "python",
   "nbconvert_exporter": "python",
   "pygments_lexer": "ipython3",
   "version": "3.10.18"
  }
 },
 "nbformat": 4,
 "nbformat_minor": 5
}
